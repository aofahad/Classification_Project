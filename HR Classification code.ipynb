{
 "cells": [
  {
   "cell_type": "code",
   "execution_count": 1,
   "id": "5dcf9a54",
   "metadata": {
    "colab": {
     "base_uri": "https://localhost:8080/"
    },
    "id": "5dcf9a54",
    "outputId": "fca139d1-21f7-4035-bcfe-5d2f60b204a5"
   },
   "outputs": [
    {
     "name": "stdout",
     "output_type": "stream",
     "text": [
      "Requirement already satisfied: lightgbm in c:\\users\\amora\\anaconda3\\lib\\site-packages (3.3.1)\n",
      "Requirement already satisfied: scikit-learn!=0.22.0 in c:\\users\\amora\\anaconda3\\lib\\site-packages (from lightgbm) (0.23.2)\n",
      "Requirement already satisfied: wheel in c:\\users\\amora\\anaconda3\\lib\\site-packages (from lightgbm) (0.36.2)\n",
      "Requirement already satisfied: numpy in c:\\users\\amora\\anaconda3\\lib\\site-packages (from lightgbm) (1.19.5)\n",
      "Requirement already satisfied: scipy in c:\\users\\amora\\anaconda3\\lib\\site-packages (from lightgbm) (1.5.4)\n",
      "Requirement already satisfied: threadpoolctl>=2.0.0 in c:\\users\\amora\\anaconda3\\lib\\site-packages (from scikit-learn!=0.22.0->lightgbm) (2.1.0)\n",
      "Requirement already satisfied: joblib>=0.11 in c:\\users\\amora\\anaconda3\\lib\\site-packages (from scikit-learn!=0.22.0->lightgbm) (1.0.1)\n",
      "Requirement already satisfied: xgboost in c:\\users\\amora\\anaconda3\\lib\\site-packages (1.5.1)\n",
      "Requirement already satisfied: numpy in c:\\users\\amora\\anaconda3\\lib\\site-packages (from xgboost) (1.19.5)\n",
      "Requirement already satisfied: scipy in c:\\users\\amora\\anaconda3\\lib\\site-packages (from xgboost) (1.5.4)\n"
     ]
    }
   ],
   "source": [
    "import numpy as np\n",
    "import pandas as pd\n",
    "import matplotlib.pyplot as plt\n",
    "import seaborn as sns\n",
    "from sklearn import metrics\n",
    "from sklearn.metrics import accuracy_score\n",
    "from imblearn.over_sampling import RandomOverSampler\n",
    "from sklearn.metrics import classification_report\n",
    "from sklearn.model_selection import cross_val_score\n",
    "from sklearn.model_selection import GridSearchCV\n",
    "! pip install lightgbm\n",
    "! pip install xgboost\n",
    "import warnings\n",
    "warnings.filterwarnings('ignore')\n",
    "\n",
    "%config InlineBackend.figure_format = 'jpg'\n",
    "%matplotlib inline"
   ]
  },
  {
   "cell_type": "code",
   "execution_count": 2,
   "id": "6126f52a",
   "metadata": {
    "colab": {
     "base_uri": "https://localhost:8080/",
     "height": 296
    },
    "id": "6126f52a",
    "outputId": "c6b97ef2-0931-40ff-b9e9-1a47747b8892"
   },
   "outputs": [
    {
     "data": {
      "text/html": [
       "<div>\n",
       "<style scoped>\n",
       "    .dataframe tbody tr th:only-of-type {\n",
       "        vertical-align: middle;\n",
       "    }\n",
       "\n",
       "    .dataframe tbody tr th {\n",
       "        vertical-align: top;\n",
       "    }\n",
       "\n",
       "    .dataframe thead th {\n",
       "        text-align: right;\n",
       "    }\n",
       "</style>\n",
       "<table border=\"1\" class=\"dataframe\">\n",
       "  <thead>\n",
       "    <tr style=\"text-align: right;\">\n",
       "      <th></th>\n",
       "      <th>employee_id</th>\n",
       "      <th>department</th>\n",
       "      <th>region</th>\n",
       "      <th>education</th>\n",
       "      <th>gender</th>\n",
       "      <th>recruitment_channel</th>\n",
       "      <th>no_of_trainings</th>\n",
       "      <th>age</th>\n",
       "      <th>previous_year_rating</th>\n",
       "      <th>length_of_service</th>\n",
       "      <th>KPIs_met &gt;80%</th>\n",
       "      <th>awards_won?</th>\n",
       "      <th>avg_training_score</th>\n",
       "      <th>is_promoted</th>\n",
       "    </tr>\n",
       "  </thead>\n",
       "  <tbody>\n",
       "    <tr>\n",
       "      <th>0</th>\n",
       "      <td>65438</td>\n",
       "      <td>Sales &amp; Marketing</td>\n",
       "      <td>region_7</td>\n",
       "      <td>Master's &amp; above</td>\n",
       "      <td>f</td>\n",
       "      <td>sourcing</td>\n",
       "      <td>1</td>\n",
       "      <td>35</td>\n",
       "      <td>5.0</td>\n",
       "      <td>8</td>\n",
       "      <td>1</td>\n",
       "      <td>0</td>\n",
       "      <td>49</td>\n",
       "      <td>0</td>\n",
       "    </tr>\n",
       "    <tr>\n",
       "      <th>1</th>\n",
       "      <td>65141</td>\n",
       "      <td>Operations</td>\n",
       "      <td>region_22</td>\n",
       "      <td>Bachelor's</td>\n",
       "      <td>m</td>\n",
       "      <td>other</td>\n",
       "      <td>1</td>\n",
       "      <td>30</td>\n",
       "      <td>5.0</td>\n",
       "      <td>4</td>\n",
       "      <td>0</td>\n",
       "      <td>0</td>\n",
       "      <td>60</td>\n",
       "      <td>0</td>\n",
       "    </tr>\n",
       "    <tr>\n",
       "      <th>2</th>\n",
       "      <td>7513</td>\n",
       "      <td>Sales &amp; Marketing</td>\n",
       "      <td>region_19</td>\n",
       "      <td>Bachelor's</td>\n",
       "      <td>m</td>\n",
       "      <td>sourcing</td>\n",
       "      <td>1</td>\n",
       "      <td>34</td>\n",
       "      <td>3.0</td>\n",
       "      <td>7</td>\n",
       "      <td>0</td>\n",
       "      <td>0</td>\n",
       "      <td>50</td>\n",
       "      <td>0</td>\n",
       "    </tr>\n",
       "    <tr>\n",
       "      <th>3</th>\n",
       "      <td>2542</td>\n",
       "      <td>Sales &amp; Marketing</td>\n",
       "      <td>region_23</td>\n",
       "      <td>Bachelor's</td>\n",
       "      <td>m</td>\n",
       "      <td>other</td>\n",
       "      <td>2</td>\n",
       "      <td>39</td>\n",
       "      <td>1.0</td>\n",
       "      <td>10</td>\n",
       "      <td>0</td>\n",
       "      <td>0</td>\n",
       "      <td>50</td>\n",
       "      <td>0</td>\n",
       "    </tr>\n",
       "    <tr>\n",
       "      <th>4</th>\n",
       "      <td>48945</td>\n",
       "      <td>Technology</td>\n",
       "      <td>region_26</td>\n",
       "      <td>Bachelor's</td>\n",
       "      <td>m</td>\n",
       "      <td>other</td>\n",
       "      <td>1</td>\n",
       "      <td>45</td>\n",
       "      <td>3.0</td>\n",
       "      <td>2</td>\n",
       "      <td>0</td>\n",
       "      <td>0</td>\n",
       "      <td>73</td>\n",
       "      <td>0</td>\n",
       "    </tr>\n",
       "  </tbody>\n",
       "</table>\n",
       "</div>"
      ],
      "text/plain": [
       "   employee_id         department     region         education gender  \\\n",
       "0        65438  Sales & Marketing   region_7  Master's & above      f   \n",
       "1        65141         Operations  region_22        Bachelor's      m   \n",
       "2         7513  Sales & Marketing  region_19        Bachelor's      m   \n",
       "3         2542  Sales & Marketing  region_23        Bachelor's      m   \n",
       "4        48945         Technology  region_26        Bachelor's      m   \n",
       "\n",
       "  recruitment_channel  no_of_trainings  age  previous_year_rating  \\\n",
       "0            sourcing                1   35                   5.0   \n",
       "1               other                1   30                   5.0   \n",
       "2            sourcing                1   34                   3.0   \n",
       "3               other                2   39                   1.0   \n",
       "4               other                1   45                   3.0   \n",
       "\n",
       "   length_of_service  KPIs_met >80%  awards_won?  avg_training_score  \\\n",
       "0                  8              1            0                  49   \n",
       "1                  4              0            0                  60   \n",
       "2                  7              0            0                  50   \n",
       "3                 10              0            0                  50   \n",
       "4                  2              0            0                  73   \n",
       "\n",
       "   is_promoted  \n",
       "0            0  \n",
       "1            0  \n",
       "2            0  \n",
       "3            0  \n",
       "4            0  "
      ]
     },
     "execution_count": 2,
     "metadata": {},
     "output_type": "execute_result"
    }
   ],
   "source": [
    "df =pd.read_csv('train.csv')\n",
    "df.head()"
   ]
  },
  {
   "cell_type": "code",
   "execution_count": 3,
   "id": "f4576812",
   "metadata": {
    "colab": {
     "base_uri": "https://localhost:8080/"
    },
    "id": "f4576812",
    "outputId": "39c5d581-cedf-4874-899b-d9b39b0721a0"
   },
   "outputs": [
    {
     "data": {
      "text/plain": [
       "(54808, 14)"
      ]
     },
     "execution_count": 3,
     "metadata": {},
     "output_type": "execute_result"
    }
   ],
   "source": [
    "df.shape"
   ]
  },
  {
   "cell_type": "code",
   "execution_count": 3,
   "id": "679dbce9",
   "metadata": {
    "id": "679dbce9"
   },
   "outputs": [],
   "source": [
    "df.rename(columns = {'is_promoted':'promotion'}, inplace = True)"
   ]
  },
  {
   "cell_type": "code",
   "execution_count": 5,
   "id": "13740a9a",
   "metadata": {
    "colab": {
     "base_uri": "https://localhost:8080/"
    },
    "id": "13740a9a",
    "outputId": "4f0b6c8a-a3ee-4595-a8f9-c3279a3056d0"
   },
   "outputs": [
    {
     "data": {
      "text/plain": [
       "Index(['employee_id', 'department', 'region', 'education', 'gender',\n",
       "       'recruitment_channel', 'no_of_trainings', 'age', 'previous_year_rating',\n",
       "       'length_of_service', 'KPIs_met >80%', 'awards_won?',\n",
       "       'avg_training_score', 'promotion'],\n",
       "      dtype='object')"
      ]
     },
     "execution_count": 5,
     "metadata": {},
     "output_type": "execute_result"
    }
   ],
   "source": [
    "df.columns"
   ]
  },
  {
   "cell_type": "code",
   "execution_count": 6,
   "id": "c2e84fa8",
   "metadata": {
    "colab": {
     "base_uri": "https://localhost:8080/",
     "height": 300
    },
    "id": "c2e84fa8",
    "outputId": "617f01a0-0b1b-4a5b-d552-3e2d9618dcc7"
   },
   "outputs": [
    {
     "data": {
      "text/html": [
       "<div>\n",
       "<style scoped>\n",
       "    .dataframe tbody tr th:only-of-type {\n",
       "        vertical-align: middle;\n",
       "    }\n",
       "\n",
       "    .dataframe tbody tr th {\n",
       "        vertical-align: top;\n",
       "    }\n",
       "\n",
       "    .dataframe thead th {\n",
       "        text-align: right;\n",
       "    }\n",
       "</style>\n",
       "<table border=\"1\" class=\"dataframe\">\n",
       "  <thead>\n",
       "    <tr style=\"text-align: right;\">\n",
       "      <th></th>\n",
       "      <th>employee_id</th>\n",
       "      <th>no_of_trainings</th>\n",
       "      <th>age</th>\n",
       "      <th>previous_year_rating</th>\n",
       "      <th>length_of_service</th>\n",
       "      <th>KPIs_met &gt;80%</th>\n",
       "      <th>awards_won?</th>\n",
       "      <th>avg_training_score</th>\n",
       "      <th>promotion</th>\n",
       "    </tr>\n",
       "  </thead>\n",
       "  <tbody>\n",
       "    <tr>\n",
       "      <th>count</th>\n",
       "      <td>54808.000000</td>\n",
       "      <td>54808.000000</td>\n",
       "      <td>54808.000000</td>\n",
       "      <td>50684.000000</td>\n",
       "      <td>54808.000000</td>\n",
       "      <td>54808.000000</td>\n",
       "      <td>54808.000000</td>\n",
       "      <td>54808.000000</td>\n",
       "      <td>54808.000000</td>\n",
       "    </tr>\n",
       "    <tr>\n",
       "      <th>mean</th>\n",
       "      <td>39195.830627</td>\n",
       "      <td>1.253011</td>\n",
       "      <td>34.803915</td>\n",
       "      <td>3.329256</td>\n",
       "      <td>5.865512</td>\n",
       "      <td>0.351974</td>\n",
       "      <td>0.023172</td>\n",
       "      <td>63.386750</td>\n",
       "      <td>0.085170</td>\n",
       "    </tr>\n",
       "    <tr>\n",
       "      <th>std</th>\n",
       "      <td>22586.581449</td>\n",
       "      <td>0.609264</td>\n",
       "      <td>7.660169</td>\n",
       "      <td>1.259993</td>\n",
       "      <td>4.265094</td>\n",
       "      <td>0.477590</td>\n",
       "      <td>0.150450</td>\n",
       "      <td>13.371559</td>\n",
       "      <td>0.279137</td>\n",
       "    </tr>\n",
       "    <tr>\n",
       "      <th>min</th>\n",
       "      <td>1.000000</td>\n",
       "      <td>1.000000</td>\n",
       "      <td>20.000000</td>\n",
       "      <td>1.000000</td>\n",
       "      <td>1.000000</td>\n",
       "      <td>0.000000</td>\n",
       "      <td>0.000000</td>\n",
       "      <td>39.000000</td>\n",
       "      <td>0.000000</td>\n",
       "    </tr>\n",
       "    <tr>\n",
       "      <th>25%</th>\n",
       "      <td>19669.750000</td>\n",
       "      <td>1.000000</td>\n",
       "      <td>29.000000</td>\n",
       "      <td>3.000000</td>\n",
       "      <td>3.000000</td>\n",
       "      <td>0.000000</td>\n",
       "      <td>0.000000</td>\n",
       "      <td>51.000000</td>\n",
       "      <td>0.000000</td>\n",
       "    </tr>\n",
       "    <tr>\n",
       "      <th>50%</th>\n",
       "      <td>39225.500000</td>\n",
       "      <td>1.000000</td>\n",
       "      <td>33.000000</td>\n",
       "      <td>3.000000</td>\n",
       "      <td>5.000000</td>\n",
       "      <td>0.000000</td>\n",
       "      <td>0.000000</td>\n",
       "      <td>60.000000</td>\n",
       "      <td>0.000000</td>\n",
       "    </tr>\n",
       "    <tr>\n",
       "      <th>75%</th>\n",
       "      <td>58730.500000</td>\n",
       "      <td>1.000000</td>\n",
       "      <td>39.000000</td>\n",
       "      <td>4.000000</td>\n",
       "      <td>7.000000</td>\n",
       "      <td>1.000000</td>\n",
       "      <td>0.000000</td>\n",
       "      <td>76.000000</td>\n",
       "      <td>0.000000</td>\n",
       "    </tr>\n",
       "    <tr>\n",
       "      <th>max</th>\n",
       "      <td>78298.000000</td>\n",
       "      <td>10.000000</td>\n",
       "      <td>60.000000</td>\n",
       "      <td>5.000000</td>\n",
       "      <td>37.000000</td>\n",
       "      <td>1.000000</td>\n",
       "      <td>1.000000</td>\n",
       "      <td>99.000000</td>\n",
       "      <td>1.000000</td>\n",
       "    </tr>\n",
       "  </tbody>\n",
       "</table>\n",
       "</div>"
      ],
      "text/plain": [
       "        employee_id  no_of_trainings           age  previous_year_rating  \\\n",
       "count  54808.000000     54808.000000  54808.000000          50684.000000   \n",
       "mean   39195.830627         1.253011     34.803915              3.329256   \n",
       "std    22586.581449         0.609264      7.660169              1.259993   \n",
       "min        1.000000         1.000000     20.000000              1.000000   \n",
       "25%    19669.750000         1.000000     29.000000              3.000000   \n",
       "50%    39225.500000         1.000000     33.000000              3.000000   \n",
       "75%    58730.500000         1.000000     39.000000              4.000000   \n",
       "max    78298.000000        10.000000     60.000000              5.000000   \n",
       "\n",
       "       length_of_service  KPIs_met >80%   awards_won?  avg_training_score  \\\n",
       "count       54808.000000   54808.000000  54808.000000        54808.000000   \n",
       "mean            5.865512       0.351974      0.023172           63.386750   \n",
       "std             4.265094       0.477590      0.150450           13.371559   \n",
       "min             1.000000       0.000000      0.000000           39.000000   \n",
       "25%             3.000000       0.000000      0.000000           51.000000   \n",
       "50%             5.000000       0.000000      0.000000           60.000000   \n",
       "75%             7.000000       1.000000      0.000000           76.000000   \n",
       "max            37.000000       1.000000      1.000000           99.000000   \n",
       "\n",
       "          promotion  \n",
       "count  54808.000000  \n",
       "mean       0.085170  \n",
       "std        0.279137  \n",
       "min        0.000000  \n",
       "25%        0.000000  \n",
       "50%        0.000000  \n",
       "75%        0.000000  \n",
       "max        1.000000  "
      ]
     },
     "execution_count": 6,
     "metadata": {},
     "output_type": "execute_result"
    }
   ],
   "source": [
    "df.describe()"
   ]
  },
  {
   "cell_type": "code",
   "execution_count": 3,
   "id": "9b313b2a",
   "metadata": {
    "id": "9b313b2a"
   },
   "outputs": [],
   "source": [
    "df.age = df.age.astype(int)\n",
    "df.age[df.age>55]= 55"
   ]
  },
  {
   "cell_type": "code",
   "execution_count": 4,
   "id": "60ee970d",
   "metadata": {
    "id": "60ee970d"
   },
   "outputs": [],
   "source": [
    "df.length_of_service = df.length_of_service.astype(int)\n",
    "df.length_of_service[df.length_of_service>25]= 25"
   ]
  },
  {
   "cell_type": "code",
   "execution_count": 5,
   "id": "943b0054",
   "metadata": {
    "id": "943b0054"
   },
   "outputs": [],
   "source": [
    "df.education[df.education.isna()] = 'Diploma'\n",
    "df.previous_year_rating[df.previous_year_rating.isna()] = df.previous_year_rating.median()"
   ]
  },
  {
   "cell_type": "code",
   "execution_count": 10,
   "id": "00412ef0",
   "metadata": {
    "colab": {
     "base_uri": "https://localhost:8080/"
    },
    "id": "00412ef0",
    "outputId": "9455eb22-de96-4fec-daee-be9e3718cb0a"
   },
   "outputs": [
    {
     "data": {
      "text/plain": [
       "array([\"Master's & above\", \"Bachelor's\", 'Diploma', 'Below Secondary'],\n",
       "      dtype=object)"
      ]
     },
     "execution_count": 10,
     "metadata": {},
     "output_type": "execute_result"
    }
   ],
   "source": [
    "df.education.unique()"
   ]
  },
  {
   "cell_type": "code",
   "execution_count": 6,
   "id": "217fba01",
   "metadata": {
    "id": "217fba01"
   },
   "outputs": [],
   "source": [
    "df[\"education\"].replace({\"Below Secondary\": \"1.0\", \"Diploma\": \"2.0\", \"Bachelor's\": \"3.0\", \"Master's & above\": \"4.0\"}, inplace=True)\n",
    "df['education'] = pd.to_numeric(df['education'], errors='coerce')"
   ]
  },
  {
   "cell_type": "code",
   "execution_count": 20,
   "id": "6efda151",
   "metadata": {
    "id": "6efda151"
   },
   "outputs": [],
   "source": [
    "df['gender'] = df.gender.map({'m': 'Male', 'f': 'Female'})"
   ]
  },
  {
   "cell_type": "code",
   "execution_count": 9,
   "id": "97f7e270",
   "metadata": {
    "colab": {
     "base_uri": "https://localhost:8080/",
     "height": 741
    },
    "id": "97f7e270",
    "outputId": "fd8e5ab0-9048-48b3-98a2-d4c17997bc63"
   },
   "outputs": [
    {
     "data": {
      "image/jpeg": "[encoded data removed]",
      "text/plain": [
       "<Figure size 864x864 with 2 Axes>"
      ]
     },
     "metadata": {
      "needs_background": "light"
     },
     "output_type": "display_data"
    }
   ],
   "source": [
    "plt.figure(figsize=(12,12))\n",
    "sns.heatmap(df.corr(), vmax = 1, vmin = -1, cmap = 'YlGnBu', cbar=True, annot=True, square=True, fmt='.2f', annot_kws = {'size': 10});"
   ]
  },
  {
   "cell_type": "code",
   "execution_count": 10,
   "id": "4fca079b",
   "metadata": {
    "id": "4fca079b"
   },
   "outputs": [],
   "source": [
    "from sklearn.model_selection import train_test_split\n",
    "from sklearn.preprocessing import MinMaxScaler\n",
    "from sklearn.preprocessing import StandardScaler\n",
    "from sklearn.linear_model import LogisticRegression\n",
    "from sklearn.ensemble import RandomForestClassifier\n",
    "from sklearn.svm import SVC\n",
    "from sklearn.neighbors import KNeighborsClassifier\n",
    "from lightgbm import LGBMClassifier\n",
    "from xgboost import XGBClassifier\n",
    "from sklearn.tree import DecisionTreeClassifier"
   ]
  },
  {
   "cell_type": "markdown",
   "id": "Isnxr3a2D6Bz",
   "metadata": {
    "id": "Isnxr3a2D6Bz"
   },
   "source": [
    "."
   ]
  },
  {
   "cell_type": "markdown",
   "id": "7t1oP0wUEBEV",
   "metadata": {
    "id": "7t1oP0wUEBEV"
   },
   "source": [
    "**Transformations**\n",
    "1. Train-test split\n",
    "2. Scale data\n",
    "3. Deal with class imbalance\n",
    "\n"
   ]
  },
  {
   "cell_type": "code",
   "execution_count": 12,
   "id": "CXz2b3kLD8l_",
   "metadata": {
    "id": "CXz2b3kLD8l_"
   },
   "outputs": [],
   "source": [
    "# Train-test split\n",
    "\n",
    "x_train = df.loc[:,['education','no_of_trainings','age','previous_year_rating','length_of_service','KPIs_met >80%','awards_won?']]\n",
    "y_train = df['promotion']\n",
    "x_train, x_test, y_train, y_test = train_test_split(x_train, y_train, test_size=0.33, random_state=42)"
   ]
  },
  {
   "cell_type": "code",
   "execution_count": 13,
   "id": "4nzuEkhVFmxR",
   "metadata": {
    "colab": {
     "base_uri": "https://localhost:8080/"
    },
    "id": "4nzuEkhVFmxR",
    "outputId": "f3b68958-4f38-41f8-cd5b-f82f954e9cea"
   },
   "outputs": [
    {
     "data": {
      "text/plain": [
       "array([[0.66666667, 0.        , 0.42857143, ..., 0.375     , 0.        ,\n",
       "        0.        ],\n",
       "       [0.66666667, 0.22222222, 0.37142857, ..., 0.125     , 0.        ,\n",
       "        0.        ],\n",
       "       [0.66666667, 0.11111111, 0.51428571, ..., 0.41666667, 0.        ,\n",
       "        0.        ],\n",
       "       ...,\n",
       "       [0.66666667, 0.11111111, 0.88571429, ..., 0.91666667, 0.        ,\n",
       "        0.        ],\n",
       "       [0.66666667, 0.        , 0.28571429, ..., 0.08333333, 1.        ,\n",
       "        0.        ],\n",
       "       [0.66666667, 0.        , 0.37142857, ..., 0.29166667, 0.        ,\n",
       "        0.        ]])"
      ]
     },
     "execution_count": 13,
     "metadata": {},
     "output_type": "execute_result"
    }
   ],
   "source": [
    "## import StandardScaler\n",
    "feature_scale=['education','no_of_trainings','age','previous_year_rating','length_of_service','KPIs_met >80%','awards_won?']\n",
    "scaler=MinMaxScaler()\n",
    "scaler.fit(x_train[feature_scale])\n",
    "scaler.transform(x_train[feature_scale])\n",
    "scaler.transform(x_test[feature_scale])"
   ]
  },
  {
   "cell_type": "markdown",
   "id": "a1094e25",
   "metadata": {},
   "source": [
    "### **For Model 1**"
   ]
  },
  {
   "cell_type": "code",
   "execution_count": 14,
   "id": "146f7ef1",
   "metadata": {
    "colab": {
     "base_uri": "https://localhost:8080/",
     "height": 264
    },
    "id": "146f7ef1",
    "outputId": "71d08c6c-749b-41aa-84d2-011bc444188e"
   },
   "outputs": [
    {
     "data": {
      "image/jpeg": "[encoded data removed]",
      "text/plain": [
       "<Figure size 432x288 with 1 Axes>"
      ]
     },
     "metadata": {},
     "output_type": "display_data"
    }
   ],
   "source": [
    "#Here for imbalanced data\n",
    "ros = RandomOverSampler(sampling_strategy=\"not majority\") \n",
    "x_train_ros, y_train_ros = ros.fit_resample(x_train, y_train)\n",
    "ax = y_train_ros.value_counts().plot.pie(autopct='%.2f')\n",
    "_ = ax.set_title(\"Over-sampling\")"
   ]
  },
  {
   "cell_type": "markdown",
   "id": "5cdac4c9",
   "metadata": {},
   "source": [
    "### **For Model 2**"
   ]
  },
  {
   "cell_type": "code",
   "execution_count": 15,
   "id": "4477febd",
   "metadata": {},
   "outputs": [
    {
     "data": {
      "image/jpeg": "[encoded data removed]",
      "text/plain": [
       "<Figure size 432x288 with 1 Axes>"
      ]
     },
     "metadata": {},
     "output_type": "display_data"
    }
   ],
   "source": [
    "#Second model\n",
    "x_train1 = df.loc[:,['previous_year_rating', 'length_of_service', 'KPIs_met >80%', 'awards_won?',]]\n",
    "y_train1 = df['promotion']\n",
    "x_train1, x_test1, y_train1, y_test1 = train_test_split(x_train1, y_train1, test_size=0.33, random_state=42)\n",
    "#Here for imbalanced data\n",
    "ros1 = RandomOverSampler(sampling_strategy=\"not majority\") \n",
    "x_train_ros1, y_train_ros1 = ros1.fit_resample(x_train1, y_train1)\n",
    "ax1 = y_train_ros1.value_counts().plot.pie(autopct='%.2f')\n",
    "_ = ax1.set_title(\"Over-sampling\")"
   ]
  },
  {
   "cell_type": "markdown",
   "id": "EmI2gFyeJCZT",
   "metadata": {
    "id": "EmI2gFyeJCZT"
   },
   "source": [
    "# **Logistic Regression**"
   ]
  },
  {
   "cell_type": "markdown",
   "id": "f07e687b",
   "metadata": {},
   "source": [
    "### **Model 1**"
   ]
  },
  {
   "cell_type": "code",
   "execution_count": 74,
   "id": "c15a74ef",
   "metadata": {
    "colab": {
     "base_uri": "https://localhost:8080/"
    },
    "id": "c15a74ef",
    "outputId": "d8c55799-cd86-415a-c489-56a1cbed11c5"
   },
   "outputs": [
    {
     "name": "stdout",
     "output_type": "stream",
     "text": [
      "0.9169016420633604\n",
      "              precision    recall  f1-score   support\n",
      "\n",
      "           0       0.92      0.99      0.96     16613\n",
      "           1       0.43      0.06      0.10      1474\n",
      "\n",
      "    accuracy                           0.92     18087\n",
      "   macro avg       0.67      0.52      0.53     18087\n",
      "weighted avg       0.88      0.92      0.89     18087\n",
      "\n"
     ]
    }
   ],
   "source": [
    "#Logistic Regression algorithm for first model\n",
    "lr = LogisticRegression().fit(x_train, y_train)\n",
    "y_pred = lr.predict(x_test)\n",
    "print(metrics.accuracy_score(y_test, y_pred))\n",
    "print(classification_report(y_test, y_pred))"
   ]
  },
  {
   "cell_type": "code",
   "execution_count": 73,
   "id": "f56bc314",
   "metadata": {
    "colab": {
     "base_uri": "https://localhost:8080/"
    },
    "id": "f56bc314",
    "outputId": "0e497bd8-603e-4a34-f491-5cede3d25db5"
   },
   "outputs": [
    {
     "name": "stdout",
     "output_type": "stream",
     "text": [
      "0.7070271465693592\n",
      "              precision    recall  f1-score   support\n",
      "\n",
      "           0       0.97      0.70      0.82     16613\n",
      "           1       0.18      0.73      0.29      1474\n",
      "\n",
      "    accuracy                           0.71     18087\n",
      "   macro avg       0.57      0.72      0.55     18087\n",
      "weighted avg       0.90      0.71      0.77     18087\n",
      "\n"
     ]
    }
   ],
   "source": [
    "lr = LogisticRegression().fit(x_train_ros, y_train_ros)\n",
    "y_pred = lr.predict(x_test)\n",
    "print(metrics.accuracy_score(y_test, y_pred))\n",
    "print(classification_report(y_test, y_pred))"
   ]
  },
  {
   "cell_type": "code",
   "execution_count": 75,
   "id": "91a7295d",
   "metadata": {
    "colab": {
     "base_uri": "https://localhost:8080/"
    },
    "id": "91a7295d",
    "outputId": "955a2c30-7df3-459b-c0e4-5acf5686769a"
   },
   "outputs": [
    {
     "name": "stdout",
     "output_type": "stream",
     "text": [
      "[0.71667164 0.71846108 0.71875932 0.73456606 0.7052506  0.72076372\n",
      " 0.70912888 0.70504026 0.70832091 0.70921563]\n",
      "0.7146178092215356\n"
     ]
    }
   ],
   "source": [
    "scores = cross_val_score(lr, x_train_ros, y_train_ros, cv=10, scoring='recall')\n",
    "print(scores)\n",
    "print(scores.mean())"
   ]
  },
  {
   "cell_type": "markdown",
   "id": "dd16942c",
   "metadata": {},
   "source": [
    "### Grid Search"
   ]
  },
  {
   "cell_type": "code",
   "execution_count": 79,
   "id": "4de2806b",
   "metadata": {},
   "outputs": [
    {
     "name": "stdout",
     "output_type": "stream",
     "text": [
      "tuned hpyerparameters :(best parameters)  {'C': 0.001, 'penalty': 'l2'}\n",
      "recall : 0.7120527478480989\n"
     ]
    }
   ],
   "source": [
    "grid={\"C\":np.logspace(-3,3,7), \"penalty\":[\"l1\",\"l2\"]}# l1 lasso l2 ridge\n",
    "logreg=LogisticRegression()\n",
    "logreg_cv=GridSearchCV(logreg,grid,cv=10)\n",
    "logreg_cv.fit(x_train_ros,y_train_ros)\n",
    "\n",
    "print(\"tuned hpyerparameters :(best parameters) \",logreg_cv.best_params_)\n",
    "print(\"recall :\",logreg_cv.best_score_)"
   ]
  },
  {
   "cell_type": "code",
   "execution_count": 80,
   "id": "7d83879c",
   "metadata": {},
   "outputs": [
    {
     "name": "stdout",
     "output_type": "stream",
     "text": [
      "score 0.7070271465693592\n"
     ]
    }
   ],
   "source": [
    "logreg2=LogisticRegression(C=1,penalty=\"l2\")\n",
    "logreg2.fit(x_train_ros,y_train_ros)\n",
    "print(\"score\",logreg2.score(x_test,y_test))"
   ]
  },
  {
   "cell_type": "markdown",
   "id": "01c6cb8f",
   "metadata": {},
   "source": [
    "### **Model 2**"
   ]
  },
  {
   "cell_type": "code",
   "execution_count": 81,
   "id": "2819a378",
   "metadata": {},
   "outputs": [
    {
     "name": "stdout",
     "output_type": "stream",
     "text": [
      "0.916404047105656\n",
      "              precision    recall  f1-score   support\n",
      "\n",
      "           0       0.92      0.99      0.96     16613\n",
      "           1       0.42      0.07      0.11      1474\n",
      "\n",
      "    accuracy                           0.92     18087\n",
      "   macro avg       0.67      0.53      0.54     18087\n",
      "weighted avg       0.88      0.92      0.89     18087\n",
      "\n"
     ]
    }
   ],
   "source": [
    "#Logistic Regression algorithm for second model\n",
    "lr1 = LogisticRegression().fit(x_train1, y_train1)\n",
    "y_pred1 = lr1.predict(x_test1)\n",
    "print(metrics.accuracy_score(y_test1, y_pred1))\n",
    "print(classification_report(y_test1, y_pred1))"
   ]
  },
  {
   "cell_type": "code",
   "execution_count": 82,
   "id": "b2c57b93",
   "metadata": {},
   "outputs": [
    {
     "name": "stdout",
     "output_type": "stream",
     "text": [
      "0.705810803339415\n",
      "              precision    recall  f1-score   support\n",
      "\n",
      "           0       0.97      0.70      0.81     16613\n",
      "           1       0.18      0.73      0.29      1474\n",
      "\n",
      "    accuracy                           0.71     18087\n",
      "   macro avg       0.57      0.71      0.55     18087\n",
      "weighted avg       0.90      0.71      0.77     18087\n",
      "\n"
     ]
    }
   ],
   "source": [
    "lr1 = LogisticRegression().fit(x_train_ros1, y_train_ros1)\n",
    "y_pred1 = lr1.predict(x_test1)\n",
    "print(metrics.accuracy_score(y_test1, y_pred1))\n",
    "print(classification_report(y_test1, y_pred1))"
   ]
  },
  {
   "cell_type": "code",
   "execution_count": 83,
   "id": "eddf0466",
   "metadata": {},
   "outputs": [
    {
     "name": "stdout",
     "output_type": "stream",
     "text": [
      "[0.71339099 0.70891739 0.70921563 0.720847   0.71420048 0.71897375\n",
      " 0.71778043 0.72054876 0.71458395 0.71309275]\n",
      "0.7151551134701443\n"
     ]
    }
   ],
   "source": [
    "scores1 = cross_val_score(lr1, x_train_ros1, y_train_ros1, cv=10, scoring='recall')\n",
    "print(scores1)\n",
    "print(scores1.mean())"
   ]
  },
  {
   "cell_type": "markdown",
   "id": "c31ff8df",
   "metadata": {},
   "source": [
    "### Grid Search"
   ]
  },
  {
   "cell_type": "code",
   "execution_count": 84,
   "id": "0fd353f7",
   "metadata": {},
   "outputs": [
    {
     "name": "stdout",
     "output_type": "stream",
     "text": [
      "tuned hpyerparameters :(best parameters)  {'C': 0.01, 'penalty': 'l2'}\n",
      "recall : 0.7082351086086496\n"
     ]
    }
   ],
   "source": [
    "grid1={\"C\":np.logspace(-3,3,7), \"penalty\":[\"l1\",\"l2\"]}# l1 lasso l2 ridge\n",
    "logreg1=LogisticRegression()\n",
    "logreg_cv1=GridSearchCV(logreg,grid,cv=10)\n",
    "logreg_cv1.fit(x_train_ros1,y_train_ros1)\n",
    "\n",
    "print(\"tuned hpyerparameters :(best parameters) \",logreg_cv1.best_params_)\n",
    "print(\"recall :\",logreg_cv1.best_score_)"
   ]
  },
  {
   "cell_type": "markdown",
   "id": "f57d34e2",
   "metadata": {},
   "source": [
    "# **Random Forest**"
   ]
  },
  {
   "cell_type": "markdown",
   "id": "c3847f33",
   "metadata": {},
   "source": [
    "### **Model 1**"
   ]
  },
  {
   "cell_type": "code",
   "execution_count": 14,
   "id": "25b222df",
   "metadata": {
    "colab": {
     "base_uri": "https://localhost:8080/"
    },
    "id": "25b222df",
    "outputId": "336f3582-99d1-47a2-bc67-b6c0b2c9a902"
   },
   "outputs": [
    {
     "name": "stdout",
     "output_type": "stream",
     "text": [
      "0.9206059600818267\n",
      "              precision    recall  f1-score   support\n",
      "\n",
      "           0       0.92      1.00      0.96     16613\n",
      "           1       0.69      0.05      0.09      1474\n",
      "\n",
      "    accuracy                           0.92     18087\n",
      "   macro avg       0.81      0.52      0.52     18087\n",
      "weighted avg       0.90      0.92      0.89     18087\n",
      "\n"
     ]
    }
   ],
   "source": [
    "#Random Forest algorithm for first model\n",
    "rf = RandomForestClassifier(n_estimators=70, oob_score=True, n_jobs=-1,random_state=42, max_features=None, min_samples_leaf=30).fit(x_train, y_train)\n",
    "y_pred = rf.predict(x_test)\n",
    "print(metrics.accuracy_score(y_test, y_pred))\n",
    "print(classification_report(y_test, y_pred))"
   ]
  },
  {
   "cell_type": "code",
   "execution_count": 15,
   "id": "9d3e48c4",
   "metadata": {
    "colab": {
     "base_uri": "https://localhost:8080/"
    },
    "id": "9d3e48c4",
    "outputId": "74ff5640-fc62-4683-956f-79bc6085c197"
   },
   "outputs": [
    {
     "name": "stdout",
     "output_type": "stream",
     "text": [
      "0.7741226750135436\n",
      "              precision    recall  f1-score   support\n",
      "\n",
      "           0       0.82      0.70      0.76     16613\n",
      "           1       0.74      0.85      0.79     16613\n",
      "\n",
      "    accuracy                           0.77     33226\n",
      "   macro avg       0.78      0.77      0.77     33226\n",
      "weighted avg       0.78      0.77      0.77     33226\n",
      "\n"
     ]
    }
   ],
   "source": [
    "rf = RandomForestClassifier(n_estimators=70, oob_score=True, n_jobs=-1,random_state=42, max_features=None, min_samples_leaf=30).fit(x_test_ros, y_test_ros)\n",
    "y_pred = rf.predict(x_test_ros)\n",
    "print(metrics.accuracy_score(y_test_ros, y_pred))\n",
    "print(classification_report(y_test_ros, y_pred))"
   ]
  },
  {
   "cell_type": "code",
   "execution_count": 16,
   "id": "8892075d",
   "metadata": {
    "colab": {
     "base_uri": "https://localhost:8080/"
    },
    "id": "8892075d",
    "outputId": "ee96a1b6-b16e-4c63-b704-faec01f4a195"
   },
   "outputs": [
    {
     "name": "stdout",
     "output_type": "stream",
     "text": [
      "[0.83925346 0.82420229 0.82962071 0.8423586  0.83935018 0.83273165\n",
      " 0.83744732 0.83022276 0.83804937 0.84467188]\n",
      "0.8357908223700653\n"
     ]
    }
   ],
   "source": [
    "scores = cross_val_score(rf, x_test_ros, y_test_ros, cv=10, scoring='recall')\n",
    "print(scores)\n",
    "print(scores.mean())"
   ]
  },
  {
   "cell_type": "markdown",
   "id": "da34de1b",
   "metadata": {},
   "source": [
    "### Grid Search"
   ]
  },
  {
   "cell_type": "code",
   "execution_count": 25,
   "id": "b9378cb8",
   "metadata": {},
   "outputs": [
    {
     "data": {
      "text/plain": [
       "GridSearchCV(cv=5,\n",
       "             estimator=RandomForestClassifier(max_features=None,\n",
       "                                              min_samples_leaf=30,\n",
       "                                              n_estimators=70, n_jobs=-1,\n",
       "                                              oob_score=True, random_state=42),\n",
       "             param_grid={'criterion': ['gini', 'entropy'],\n",
       "                         'max_depth': [4, 5, 6, 7, 8],\n",
       "                         'max_features': ['auto', 'sqrt', 'log2'],\n",
       "                         'n_estimators': [200, 500]})"
      ]
     },
     "execution_count": 25,
     "metadata": {},
     "output_type": "execute_result"
    }
   ],
   "source": [
    "param_grid = { \n",
    "    'n_estimators': [200, 500],\n",
    "    'max_features': ['auto', 'sqrt', 'log2'],\n",
    "    'max_depth' : [4,5,6,7,8],\n",
    "    'criterion' :['gini', 'entropy']\n",
    "}\n",
    "\n",
    "CV_rfc = GridSearchCV(estimator=rf, param_grid=param_grid, cv= 5)\n",
    "CV_rfc.fit(x_train, y_train)"
   ]
  },
  {
   "cell_type": "code",
   "execution_count": 21,
   "id": "f8ca3b70",
   "metadata": {},
   "outputs": [
    {
     "ename": "NameError",
     "evalue": "name 'CV_rfc' is not defined",
     "output_type": "error",
     "traceback": [
      "\u001b[1;31m---------------------------------------------------------------------------\u001b[0m",
      "\u001b[1;31mNameError\u001b[0m                                 Traceback (most recent call last)",
      "\u001b[1;32m<ipython-input-21-4208ec9d08a6>\u001b[0m in \u001b[0;36m<module>\u001b[1;34m\u001b[0m\n\u001b[1;32m----> 1\u001b[1;33m \u001b[0mCV_rfc\u001b[0m\u001b[1;33m.\u001b[0m\u001b[0mbest_params_\u001b[0m\u001b[1;33m\u001b[0m\u001b[1;33m\u001b[0m\u001b[0m\n\u001b[0m\u001b[0;32m      2\u001b[0m \u001b[0mCV_rfc\u001b[0m\u001b[1;33m.\u001b[0m\u001b[0mbest_score_\u001b[0m\u001b[1;33m\u001b[0m\u001b[1;33m\u001b[0m\u001b[0m\n",
      "\u001b[1;31mNameError\u001b[0m: name 'CV_rfc' is not defined"
     ]
    }
   ],
   "source": [
    "CV_rfc.best_params_\n",
    "CV_rfc.best_score_"
   ]
  },
  {
   "cell_type": "code",
   "execution_count": 27,
   "id": "fe983159",
   "metadata": {},
   "outputs": [],
   "source": [
    "# تعديل الباراميتار حسب الريد سيرش\n",
    "rfc1=RandomForestClassifier(random_state=42, max_features='auto', n_estimators= 200, max_depth=8, criterion='gini')"
   ]
  },
  {
   "cell_type": "code",
   "execution_count": 28,
   "id": "00b73a43",
   "metadata": {},
   "outputs": [
    {
     "data": {
      "text/plain": [
       "RandomForestClassifier(max_depth=8, n_estimators=200, random_state=42)"
      ]
     },
     "execution_count": 28,
     "metadata": {},
     "output_type": "execute_result"
    }
   ],
   "source": [
    "rfc1.fit(x_train, y_train)"
   ]
  },
  {
   "cell_type": "code",
   "execution_count": 34,
   "id": "95124cde",
   "metadata": {},
   "outputs": [],
   "source": [
    "pred=rfc1.predict(x_test_ros)"
   ]
  },
  {
   "cell_type": "code",
   "execution_count": 105,
   "id": "bb9891da",
   "metadata": {},
   "outputs": [
    {
     "ename": "NameError",
     "evalue": "name 'pred' is not defined",
     "output_type": "error",
     "traceback": [
      "\u001b[1;31m---------------------------------------------------------------------------\u001b[0m",
      "\u001b[1;31mNameError\u001b[0m                                 Traceback (most recent call last)",
      "\u001b[1;32m<ipython-input-105-26996a9cabfc>\u001b[0m in \u001b[0;36m<module>\u001b[1;34m\u001b[0m\n\u001b[1;32m----> 1\u001b[1;33m \u001b[0mprint\u001b[0m\u001b[1;33m(\u001b[0m\u001b[1;34m\"Accuracy for Random Forest on CV data: \"\u001b[0m\u001b[1;33m,\u001b[0m\u001b[0maccuracy_score\u001b[0m\u001b[1;33m(\u001b[0m\u001b[0my_train_ros\u001b[0m\u001b[1;33m,\u001b[0m\u001b[0mpred\u001b[0m\u001b[1;33m)\u001b[0m\u001b[1;33m)\u001b[0m\u001b[1;33m\u001b[0m\u001b[1;33m\u001b[0m\u001b[0m\n\u001b[0m",
      "\u001b[1;31mNameError\u001b[0m: name 'pred' is not defined"
     ]
    }
   ],
   "source": [
    "print(\"Accuracy for Random Forest on CV data: \",accuracy_score(y_train_ros,pred))"
   ]
  },
  {
   "cell_type": "markdown",
   "id": "204b6ba4",
   "metadata": {},
   "source": [
    "### **Model 2**"
   ]
  },
  {
   "cell_type": "code",
   "execution_count": 67,
   "id": "aa00408c",
   "metadata": {},
   "outputs": [
    {
     "name": "stdout",
     "output_type": "stream",
     "text": [
      "0.9206059600818267\n",
      "              precision    recall  f1-score   support\n",
      "\n",
      "           0       0.92      1.00      0.96     16613\n",
      "           1       0.66      0.05      0.10      1474\n",
      "\n",
      "    accuracy                           0.92     18087\n",
      "   macro avg       0.79      0.53      0.53     18087\n",
      "weighted avg       0.90      0.92      0.89     18087\n",
      "\n"
     ]
    }
   ],
   "source": [
    "#Random Forest algorithm for second model\n",
    "rf1 = RandomForestClassifier(n_estimators=70, oob_score=True, n_jobs=-1,random_state=42, max_features=None, min_samples_leaf=30).fit(x_train1, y_train1)\n",
    "y_pred1 = rf1.predict(x_test1)\n",
    "print(metrics.accuracy_score(y_test1, y_pred1))\n",
    "print(classification_report(y_test1, y_pred1))"
   ]
  },
  {
   "cell_type": "code",
   "execution_count": 76,
   "id": "6b892526",
   "metadata": {},
   "outputs": [
    {
     "name": "stdout",
     "output_type": "stream",
     "text": [
      "0.7358694997893216\n",
      "              precision    recall  f1-score   support\n",
      "\n",
      "           0       0.80      0.64      0.71     16613\n",
      "           1       0.70      0.84      0.76     16613\n",
      "\n",
      "    accuracy                           0.74     33226\n",
      "   macro avg       0.75      0.74      0.73     33226\n",
      "weighted avg       0.75      0.74      0.73     33226\n",
      "\n"
     ]
    }
   ],
   "source": [
    "rf1 = RandomForestClassifier(n_estimators=70, oob_score=True, n_jobs=-1,random_state=42, max_features=None, min_samples_leaf=30).fit(x_test_ros1, y_test_ros1)\n",
    "y_pred1 = rf1.predict(x_test_ros1)\n",
    "print(metrics.accuracy_score(y_test_ros1, y_pred1))\n",
    "print(classification_report(y_test_ros1, y_pred1))"
   ]
  },
  {
   "cell_type": "code",
   "execution_count": 70,
   "id": "5f88a75b",
   "metadata": {},
   "outputs": [
    {
     "name": "stdout",
     "output_type": "stream",
     "text": [
      "[0.84948826 0.85009031 0.82600843 0.84596871 0.83754513 0.85078219\n",
      " 0.83865141 0.83142685 0.83383504 0.83323299]\n",
      "0.8397029322077737\n"
     ]
    }
   ],
   "source": [
    "scores1 = cross_val_score(rf1, x_test_ros1, y_test_ros1, cv=10, scoring='recall')\n",
    "print(scores1)\n",
    "print(scores1.mean())"
   ]
  },
  {
   "cell_type": "markdown",
   "id": "3bd828f0",
   "metadata": {},
   "source": [
    "### Grid Search"
   ]
  },
  {
   "cell_type": "code",
   "execution_count": null,
   "id": "2f368346",
   "metadata": {},
   "outputs": [],
   "source": [
    "param_grid_rf1 = { \n",
    "    'n_estimators': [200, 500],\n",
    "    'max_features': ['auto', 'sqrt', 'log2'],\n",
    "    'max_depth' : [4,5,6,7,8],\n",
    "    'criterion' :['gini', 'entropy']\n",
    "}\n",
    "\n",
    "CV_rfc1 = GridSearchCV(estimator=rf1, param_grid=param_grid_rf1rf1, cv= 3)\n",
    "CV_rfc1.fit(x_train, y_train)"
   ]
  },
  {
   "cell_type": "code",
   "execution_count": null,
   "id": "833cabac",
   "metadata": {},
   "outputs": [],
   "source": [
    "CV_rfc1.best_params_"
   ]
  },
  {
   "cell_type": "code",
   "execution_count": null,
   "id": "9a6153cb",
   "metadata": {},
   "outputs": [],
   "source": [
    "# تعديل الباراميتار حسب الريد سيرش\n",
    "rfc11=RandomForestClassifier(random_state=42, max_features='auto', n_estimators= 200, max_depth=8, criterion='gini')"
   ]
  },
  {
   "cell_type": "code",
   "execution_count": null,
   "id": "d8e69b2b",
   "metadata": {},
   "outputs": [],
   "source": [
    "rfc11.fit(x_train, y_train)"
   ]
  },
  {
   "cell_type": "code",
   "execution_count": null,
   "id": "6a798850",
   "metadata": {},
   "outputs": [],
   "source": [
    "pred1=rfc11.predict(x_test_ros)"
   ]
  },
  {
   "cell_type": "code",
   "execution_count": null,
   "id": "3a06bdc5",
   "metadata": {},
   "outputs": [],
   "source": [
    "print(\"Accuracy for Random Forest on CV data: \",accuracy_score(y_train,pred1))"
   ]
  },
  {
   "cell_type": "markdown",
   "id": "f67cc1a5",
   "metadata": {},
   "source": [
    "."
   ]
  },
  {
   "cell_type": "markdown",
   "id": "153dd082",
   "metadata": {},
   "source": [
    "# **ٍSVM**"
   ]
  },
  {
   "cell_type": "markdown",
   "id": "65a28dbd",
   "metadata": {},
   "source": [
    "### **Model 1**"
   ]
  },
  {
   "cell_type": "code",
   "execution_count": 86,
   "id": "e8b7c7f8",
   "metadata": {
    "colab": {
     "base_uri": "https://localhost:8080/"
    },
    "id": "e8b7c7f8",
    "outputId": "d2806eb0-319a-4c4f-8119-fed9b377f037"
   },
   "outputs": [
    {
     "name": "stdout",
     "output_type": "stream",
     "text": [
      "0.9185050035937413\n",
      "              precision    recall  f1-score   support\n",
      "\n",
      "           0       0.92      1.00      0.96     16613\n",
      "           1       0.00      0.00      0.00      1474\n",
      "\n",
      "    accuracy                           0.92     18087\n",
      "   macro avg       0.46      0.50      0.48     18087\n",
      "weighted avg       0.84      0.92      0.88     18087\n",
      "\n"
     ]
    }
   ],
   "source": [
    "#SVM algorithm for first model\n",
    "svm = SVC(kernel='linear', C=0.025, random_state= 42).fit(x_train, y_train)\n",
    "y_pred = svm.predict(x_test)\n",
    "print(metrics.accuracy_score(y_test, y_pred))\n",
    "print(classification_report(y_test, y_pred))"
   ]
  },
  {
   "cell_type": "code",
   "execution_count": 96,
   "id": "876c6bb4",
   "metadata": {
    "colab": {
     "base_uri": "https://localhost:8080/"
    },
    "id": "876c6bb4",
    "outputId": "0260e0ca-d21f-4cc5-bf25-6f4e8af51740"
   },
   "outputs": [
    {
     "name": "stdout",
     "output_type": "stream",
     "text": [
      "0.685243545087632\n",
      "              precision    recall  f1-score   support\n",
      "\n",
      "           0       0.97      0.68      0.80     16613\n",
      "           1       0.17      0.76      0.28      1474\n",
      "\n",
      "    accuracy                           0.69     18087\n",
      "   macro avg       0.57      0.72      0.54     18087\n",
      "weighted avg       0.90      0.69      0.76     18087\n",
      "\n"
     ]
    }
   ],
   "source": [
    "svm = SVC(kernel='linear', C=0.025, random_state= 42).fit(x_train_ros, y_train_ros)\n",
    "y_pred = svm.predict(x_test)\n",
    "print(metrics.accuracy_score(y_test, y_pred))\n",
    "print(classification_report(y_test, y_pred))"
   ]
  },
  {
   "cell_type": "code",
   "execution_count": 97,
   "id": "cea38c85",
   "metadata": {
    "colab": {
     "base_uri": "https://localhost:8080/"
    },
    "id": "cea38c85",
    "outputId": "5f5057cc-0577-4377-b943-3932a97ac912"
   },
   "outputs": [
    {
     "name": "stdout",
     "output_type": "stream",
     "text": [
      "[0.74470623 0.74261855 0.74560095 0.75424993 0.73568019 0.74880668\n",
      " 0.73955847 0.73814494 0.73575902 0.73277662]\n",
      "0.7417901594198051\n"
     ]
    }
   ],
   "source": [
    "scores = cross_val_score(svm, x_train_ros, y_train_ros, cv=10, scoring='recall')\n",
    "print(scores)\n",
    "print(scores.mean())"
   ]
  },
  {
   "cell_type": "markdown",
   "id": "decc42f8",
   "metadata": {},
   "source": [
    "### Grid Search"
   ]
  },
  {
   "cell_type": "code",
   "execution_count": 99,
   "id": "c4a2a3fc",
   "metadata": {},
   "outputs": [
    {
     "name": "stdout",
     "output_type": "stream",
     "text": [
      "Fitting 5 folds for each of 2 candidates, totalling 10 fits\n",
      "[CV] C=1, kernel=linear ..............................................\n"
     ]
    },
    {
     "name": "stderr",
     "output_type": "stream",
     "text": [
      "[Parallel(n_jobs=1)]: Using backend SequentialBackend with 1 concurrent workers.\n"
     ]
    },
    {
     "name": "stdout",
     "output_type": "stream",
     "text": [
      "[CV] ............................... C=1, kernel=linear, total=  48.5s\n",
      "[CV] C=1, kernel=linear ..............................................\n"
     ]
    },
    {
     "name": "stderr",
     "output_type": "stream",
     "text": [
      "[Parallel(n_jobs=1)]: Done   1 out of   1 | elapsed:   48.4s remaining:    0.0s\n"
     ]
    },
    {
     "name": "stdout",
     "output_type": "stream",
     "text": [
      "[CV] ............................... C=1, kernel=linear, total=  48.2s\n",
      "[CV] C=1, kernel=linear ..............................................\n",
      "[CV] ............................... C=1, kernel=linear, total=  50.8s\n",
      "[CV] C=1, kernel=linear ..............................................\n",
      "[CV] ............................... C=1, kernel=linear, total=  48.9s\n",
      "[CV] C=1, kernel=linear ..............................................\n",
      "[CV] ............................... C=1, kernel=linear, total=  45.9s\n",
      "[CV] C=10, kernel=linear .............................................\n",
      "[CV] .............................. C=10, kernel=linear, total= 4.1min\n",
      "[CV] C=10, kernel=linear .............................................\n",
      "[CV] .............................. C=10, kernel=linear, total= 4.1min\n",
      "[CV] C=10, kernel=linear .............................................\n",
      "[CV] .............................. C=10, kernel=linear, total= 4.0min\n",
      "[CV] C=10, kernel=linear .............................................\n",
      "[CV] .............................. C=10, kernel=linear, total= 4.0min\n",
      "[CV] C=10, kernel=linear .............................................\n",
      "[CV] .............................. C=10, kernel=linear, total= 4.0min\n"
     ]
    },
    {
     "name": "stderr",
     "output_type": "stream",
     "text": [
      "[Parallel(n_jobs=1)]: Done  10 out of  10 | elapsed: 24.3min finished\n"
     ]
    },
    {
     "data": {
      "text/plain": [
       "GridSearchCV(estimator=SVC(), param_grid=[{'C': [1, 10], 'kernel': ['linear']}],\n",
       "             verbose=2)"
      ]
     },
     "execution_count": 99,
     "metadata": {},
     "output_type": "execute_result"
    }
   ],
   "source": [
    "# defining parameter range\n",
    "\n",
    "parameters = [{'C': [1,10], 'kernel': ['linear']}]\n",
    " \n",
    "grid_svm = GridSearchCV(SVC(), parameters, refit = True, verbose = 2)\n",
    " \n",
    "# fitting the model for grid search\n",
    "grid_svm.fit(x_train_ros, y_train_ros)"
   ]
  },
  {
   "cell_type": "code",
   "execution_count": 106,
   "id": "724346d3",
   "metadata": {},
   "outputs": [
    {
     "name": "stdout",
     "output_type": "stream",
     "text": [
      "{'C': 1, 'kernel': 'linear'}\n",
      "0.7084886331303601\n",
      "SVC(C=1, kernel='linear')\n"
     ]
    }
   ],
   "source": [
    "# print best parameter after tuning\n",
    "print(grid_svm.best_params_)\n",
    "print(grid_svm.best_score_) \n",
    "# print how our model looks after hyper-parameter tuning\n",
    "print(grid_svm.best_estimator_)"
   ]
  },
  {
   "cell_type": "code",
   "execution_count": 102,
   "id": "ded5a023",
   "metadata": {},
   "outputs": [
    {
     "ename": "NameError",
     "evalue": "name 'y_tarin_ros' is not defined",
     "output_type": "error",
     "traceback": [
      "\u001b[1;31m---------------------------------------------------------------------------\u001b[0m",
      "\u001b[1;31mNameError\u001b[0m                                 Traceback (most recent call last)",
      "\u001b[1;32m<ipython-input-102-be3bbd55bf2e>\u001b[0m in \u001b[0;36m<module>\u001b[1;34m\u001b[0m\n\u001b[0;32m      2\u001b[0m \u001b[1;33m\u001b[0m\u001b[0m\n\u001b[0;32m      3\u001b[0m \u001b[1;31m# print classification report\u001b[0m\u001b[1;33m\u001b[0m\u001b[1;33m\u001b[0m\u001b[1;33m\u001b[0m\u001b[0m\n\u001b[1;32m----> 4\u001b[1;33m \u001b[0mprint\u001b[0m\u001b[1;33m(\u001b[0m\u001b[0mclassification_report\u001b[0m\u001b[1;33m(\u001b[0m\u001b[0my_tarin_ros\u001b[0m\u001b[1;33m,\u001b[0m \u001b[0mgrid_predictions\u001b[0m\u001b[1;33m)\u001b[0m\u001b[1;33m)\u001b[0m\u001b[1;33m\u001b[0m\u001b[1;33m\u001b[0m\u001b[0m\n\u001b[0m",
      "\u001b[1;31mNameError\u001b[0m: name 'y_tarin_ros' is not defined"
     ]
    }
   ],
   "source": [
    "grid_predictions = grid_svm.predict(x_train_ros)\n",
    " \n",
    "# print classification report\n",
    "print(classification_report(y_tarin_ros, grid_predictions))"
   ]
  },
  {
   "cell_type": "markdown",
   "id": "053d5886",
   "metadata": {},
   "source": [
    "### **Model 2**"
   ]
  },
  {
   "cell_type": "code",
   "execution_count": 71,
   "id": "2c053413",
   "metadata": {},
   "outputs": [
    {
     "name": "stdout",
     "output_type": "stream",
     "text": [
      "0.9185050035937413\n",
      "              precision    recall  f1-score   support\n",
      "\n",
      "           0       0.92      1.00      0.96     16613\n",
      "           1       0.00      0.00      0.00      1474\n",
      "\n",
      "    accuracy                           0.92     18087\n",
      "   macro avg       0.46      0.50      0.48     18087\n",
      "weighted avg       0.84      0.92      0.88     18087\n",
      "\n"
     ]
    }
   ],
   "source": [
    "#SVM algorithm for second model\n",
    "svm1 = SVC(kernel='linear', C=0.025, random_state= 42).fit(x_train1, y_train1)\n",
    "y_pred1 = svm1.predict(x_test1)\n",
    "print(metrics.accuracy_score(y_test1, y_pred1))\n",
    "print(classification_report(y_test1, y_pred1))"
   ]
  },
  {
   "cell_type": "code",
   "execution_count": 72,
   "id": "249670e2",
   "metadata": {},
   "outputs": [
    {
     "name": "stdout",
     "output_type": "stream",
     "text": [
      "0.7168783482814663\n",
      "              precision    recall  f1-score   support\n",
      "\n",
      "           0       0.73      0.68      0.71     16613\n",
      "           1       0.70      0.76      0.73     16613\n",
      "\n",
      "    accuracy                           0.72     33226\n",
      "   macro avg       0.72      0.72      0.72     33226\n",
      "weighted avg       0.72      0.72      0.72     33226\n",
      "\n"
     ]
    }
   ],
   "source": [
    "svm1 = SVC(kernel='linear', C=0.025, random_state= 42).fit(x_test_ros1, y_test_ros1)\n",
    "y_pred1 = svm1.predict(x_test_ros1)\n",
    "print(metrics.accuracy_score(y_test_ros1, y_pred1))\n",
    "print(classification_report(y_test_ros1, y_pred1))"
   ]
  },
  {
   "cell_type": "code",
   "execution_count": 73,
   "id": "2cd610dd",
   "metadata": {},
   "outputs": [
    {
     "name": "stdout",
     "output_type": "stream",
     "text": [
      "[0.76038531 0.75978326 0.75316075 0.75812274 0.73886883 0.76955475\n",
      " 0.743528   0.75135461 0.75436484 0.76339554]\n",
      "0.7552518635563079\n"
     ]
    }
   ],
   "source": [
    "scores1 = cross_val_score(svm1, x_test_ros1, y_test_ros1, cv=10, scoring='recall')\n",
    "print(scores1)\n",
    "print(scores1.mean())"
   ]
  },
  {
   "cell_type": "markdown",
   "id": "f82cff25",
   "metadata": {},
   "source": [
    "# **KNN**"
   ]
  },
  {
   "cell_type": "markdown",
   "id": "fc7d2306",
   "metadata": {},
   "source": [
    "### **Model 1**"
   ]
  },
  {
   "cell_type": "code",
   "execution_count": 94,
   "id": "1354ccc6",
   "metadata": {
    "colab": {
     "base_uri": "https://localhost:8080/"
    },
    "id": "1354ccc6",
    "outputId": "af13c3a2-eb81-4cc3-f539-c94f1f8fc64f"
   },
   "outputs": [
    {
     "name": "stdout",
     "output_type": "stream",
     "text": [
      "0.7387073588765412\n",
      "              precision    recall  f1-score   support\n",
      "\n",
      "           0       0.94      0.76      0.84     16613\n",
      "           1       0.15      0.47      0.23      1474\n",
      "\n",
      "    accuracy                           0.74     18087\n",
      "   macro avg       0.55      0.62      0.54     18087\n",
      "weighted avg       0.88      0.74      0.79     18087\n",
      "\n"
     ]
    }
   ],
   "source": [
    "#Knn algorithm for first model\n",
    "#knn = KNeighborsClassifier(n_neighbors=5).fit(x_train, y_train)\n",
    "#y_pred = knn.predict(x_test)\n",
    "#print(metrics.accuracy_score(y_train, y_pred))\n",
    "#print(classification_report(y_train, y_pred))\n",
    "\n",
    "knn = KNeighborsClassifier(n_neighbors=5)\n",
    "knn.fit(x_train_ros, y_train_ros)\n",
    "y_pred = knn.predict(x_test)\n",
    "print(metrics.accuracy_score(y_test, y_pred))\n",
    "print(classification_report(y_test, y_pred))"
   ]
  },
  {
   "cell_type": "code",
   "execution_count": 33,
   "id": "d095b09c",
   "metadata": {
    "colab": {
     "base_uri": "https://localhost:8080/"
    },
    "id": "d095b09c",
    "outputId": "42116bd6-c493-472d-8291-9165d18044ab"
   },
   "outputs": [
    {
     "name": "stdout",
     "output_type": "stream",
     "text": [
      "0.8460542948293505\n",
      "              precision    recall  f1-score   support\n",
      "\n",
      "           0       0.90      0.78      0.83     16613\n",
      "           1       0.81      0.91      0.86     16613\n",
      "\n",
      "    accuracy                           0.85     33226\n",
      "   macro avg       0.85      0.85      0.85     33226\n",
      "weighted avg       0.85      0.85      0.85     33226\n",
      "\n"
     ]
    }
   ],
   "source": [
    "knn = KNeighborsClassifier(n_neighbors=5).fit(x_test_ros, y_test_ros)\n",
    "y_pred = knn.predict(x_test_ros)\n",
    "print(metrics.accuracy_score(y_test_ros, y_pred))\n",
    "print(classification_report(y_test_ros, y_pred))\n",
    "\n",
    "lbg = LGBMClassifier(learning_rate=0.09, max_depth=-5, random_state=42).fit(x_train_ros, y_train_ros)\n",
    "y_pred = lbg.predict(x_train_ros)\n",
    "print(metrics.accuracy_score(y_train_ros, y_pred))\n",
    "print(classification_report(y_train_ros, y_pred))"
   ]
  },
  {
   "cell_type": "code",
   "execution_count": 34,
   "id": "9b773cdf",
   "metadata": {
    "colab": {
     "base_uri": "https://localhost:8080/"
    },
    "id": "9b773cdf",
    "outputId": "e7922dd5-e206-4022-bec9-82a7bd02fb12"
   },
   "outputs": [
    {
     "name": "stdout",
     "output_type": "stream",
     "text": [
      "[0.89343769 0.91450933 0.90547863 0.87845969 0.91215403 0.89951865\n",
      " 0.90066225 0.91932571 0.91812161 0.89283564]\n",
      "0.9034503231564939\n"
     ]
    }
   ],
   "source": [
    "scores = cross_val_score(knn, x_test_ros, y_test_ros, cv=10, scoring='recall')\n",
    "print(scores)\n",
    "print(scores.mean())"
   ]
  },
  {
   "cell_type": "markdown",
   "id": "712ce61d",
   "metadata": {},
   "source": [
    "### Grid Search"
   ]
  },
  {
   "cell_type": "code",
   "execution_count": 29,
   "id": "0490e61c",
   "metadata": {},
   "outputs": [],
   "source": [
    "k_range = list(range(1, 15))\n",
    "weight_options = ['uniform', 'distance']"
   ]
  },
  {
   "cell_type": "code",
   "execution_count": 30,
   "id": "273b3bb1",
   "metadata": {},
   "outputs": [],
   "source": [
    "param_grid = dict(n_neighbors=k_range , weights=weight_options)"
   ]
  },
  {
   "cell_type": "code",
   "execution_count": 37,
   "id": "94ebe3e6",
   "metadata": {},
   "outputs": [],
   "source": [
    "grid = GridSearchCV(knn, param_grid, n_jobs= -1, cv=7, scoring='recall')"
   ]
  },
  {
   "cell_type": "code",
   "execution_count": 38,
   "id": "40d73a7f",
   "metadata": {},
   "outputs": [],
   "source": [
    "grid.fit(x_test_ros, y_test_ros);"
   ]
  },
  {
   "cell_type": "code",
   "execution_count": 39,
   "id": "811dfa9f",
   "metadata": {},
   "outputs": [
    {
     "data": {
      "text/plain": [
       "{'mean_fit_time': array([0.88360613, 1.09707652, 0.75335857, 0.92658704, 0.81441021,\n",
       "        0.85599525, 0.88237071, 0.94475951, 0.93293408, 0.95929224,\n",
       "        0.94764706, 0.93337727, 0.96007667, 0.92436351, 0.81795532,\n",
       "        1.15877158, 0.8141645 , 1.1254783 , 0.8150192 , 1.16833704,\n",
       "        0.90624172, 1.12130424, 0.8957477 , 1.08474391, 0.89820194,\n",
       "        1.05462016, 0.83675296, 1.14631762]),\n",
       " 'std_fit_time': array([0.18372029, 0.35521261, 0.03467759, 0.12518398, 0.10954826,\n",
       "        0.13147115, 0.19854519, 0.25247585, 0.26237412, 0.29170212,\n",
       "        0.2348241 , 0.25543548, 0.24840376, 0.21716119, 0.21258334,\n",
       "        0.27990047, 0.17116607, 0.25575384, 0.14670256, 0.28705156,\n",
       "        0.29435965, 0.26483799, 0.26308504, 0.32906385, 0.28458921,\n",
       "        0.27850728, 0.26837056, 0.25808961]),\n",
       " 'mean_score_time': array([1.69935448, 0.59414332, 1.38149033, 0.67312193, 1.57420114,\n",
       "        0.6817877 , 1.81484086, 0.74716966, 1.64988327, 0.76053814,\n",
       "        1.87658933, 0.83733249, 1.90426476, 0.84890148, 1.69130179,\n",
       "        1.1385763 , 1.75240173, 1.16681719, 1.94818432, 1.24540264,\n",
       "        2.00622184, 1.15707231, 1.99923951, 1.24984724, 2.07947179,\n",
       "        1.33232304, 1.90321033, 1.09114684]),\n",
       " 'std_score_time': array([0.46174016, 0.14968489, 0.03845763, 0.07190915, 0.25907091,\n",
       "        0.10754135, 0.46631345, 0.19806302, 0.37312321, 0.19445897,\n",
       "        0.48086745, 0.20560749, 0.48120175, 0.21536343, 0.38778269,\n",
       "        0.2469156 , 0.41843679, 0.22419757, 0.49910676, 0.34453351,\n",
       "        0.44306259, 0.28002108, 0.48890214, 0.34712876, 0.63312864,\n",
       "        0.39029496, 0.20077658, 0.11293389]),\n",
       " 'param_n_neighbors': masked_array(data=[1, 1, 2, 2, 3, 3, 4, 4, 5, 5, 6, 6, 7, 7, 8, 8, 9, 9,\n",
       "                    10, 10, 11, 11, 12, 12, 13, 13, 14, 14],\n",
       "              mask=[False, False, False, False, False, False, False, False,\n",
       "                    False, False, False, False, False, False, False, False,\n",
       "                    False, False, False, False, False, False, False, False,\n",
       "                    False, False, False, False],\n",
       "        fill_value='?',\n",
       "             dtype=object),\n",
       " 'param_weights': masked_array(data=['uniform', 'distance', 'uniform', 'distance',\n",
       "                    'uniform', 'distance', 'uniform', 'distance',\n",
       "                    'uniform', 'distance', 'uniform', 'distance',\n",
       "                    'uniform', 'distance', 'uniform', 'distance',\n",
       "                    'uniform', 'distance', 'uniform', 'distance',\n",
       "                    'uniform', 'distance', 'uniform', 'distance',\n",
       "                    'uniform', 'distance', 'uniform', 'distance'],\n",
       "              mask=[False, False, False, False, False, False, False, False,\n",
       "                    False, False, False, False, False, False, False, False,\n",
       "                    False, False, False, False, False, False, False, False,\n",
       "                    False, False, False, False],\n",
       "        fill_value='?',\n",
       "             dtype=object),\n",
       " 'params': [{'n_neighbors': 1, 'weights': 'uniform'},\n",
       "  {'n_neighbors': 1, 'weights': 'distance'},\n",
       "  {'n_neighbors': 2, 'weights': 'uniform'},\n",
       "  {'n_neighbors': 2, 'weights': 'distance'},\n",
       "  {'n_neighbors': 3, 'weights': 'uniform'},\n",
       "  {'n_neighbors': 3, 'weights': 'distance'},\n",
       "  {'n_neighbors': 4, 'weights': 'uniform'},\n",
       "  {'n_neighbors': 4, 'weights': 'distance'},\n",
       "  {'n_neighbors': 5, 'weights': 'uniform'},\n",
       "  {'n_neighbors': 5, 'weights': 'distance'},\n",
       "  {'n_neighbors': 6, 'weights': 'uniform'},\n",
       "  {'n_neighbors': 6, 'weights': 'distance'},\n",
       "  {'n_neighbors': 7, 'weights': 'uniform'},\n",
       "  {'n_neighbors': 7, 'weights': 'distance'},\n",
       "  {'n_neighbors': 8, 'weights': 'uniform'},\n",
       "  {'n_neighbors': 8, 'weights': 'distance'},\n",
       "  {'n_neighbors': 9, 'weights': 'uniform'},\n",
       "  {'n_neighbors': 9, 'weights': 'distance'},\n",
       "  {'n_neighbors': 10, 'weights': 'uniform'},\n",
       "  {'n_neighbors': 10, 'weights': 'distance'},\n",
       "  {'n_neighbors': 11, 'weights': 'uniform'},\n",
       "  {'n_neighbors': 11, 'weights': 'distance'},\n",
       "  {'n_neighbors': 12, 'weights': 'uniform'},\n",
       "  {'n_neighbors': 12, 'weights': 'distance'},\n",
       "  {'n_neighbors': 13, 'weights': 'uniform'},\n",
       "  {'n_neighbors': 13, 'weights': 'distance'},\n",
       "  {'n_neighbors': 14, 'weights': 'uniform'},\n",
       "  {'n_neighbors': 14, 'weights': 'distance'}],\n",
       " 'split0_test_score': array([0.82975137, 0.82975137, 0.70501475, 0.70501475, 0.86936367,\n",
       "        0.86936367, 0.82511589, 0.82553729, 0.8933839 , 0.89380531,\n",
       "        0.86135693, 0.86346397, 0.8988622 , 0.90096924, 0.87779182,\n",
       "        0.88453434, 0.90981879, 0.91613991, 0.88495575, 0.89970501,\n",
       "        0.91108302, 0.92288243, 0.88495575, 0.90897598, 0.90939739,\n",
       "        0.93004635, 0.87989886, 0.92372524]),\n",
       " 'split1_test_score': array([0.80235988, 0.80235988, 0.70037927, 0.70037927, 0.86051412,\n",
       "        0.86051412, 0.78718921, 0.78718921, 0.90054783, 0.90054783,\n",
       "        0.84702908, 0.84913611, 0.91319005, 0.91445428, 0.8765276 ,\n",
       "        0.88579857, 0.90686894, 0.91529709, 0.87694901, 0.89549094,\n",
       "        0.91908976, 0.93426043, 0.88916983, 0.9157185 , 0.91487568,\n",
       "        0.94058154, 0.89928361, 0.93426043]),\n",
       " 'split2_test_score': array([0.80749789, 0.80749789, 0.70050548, 0.70050548, 0.87110362,\n",
       "        0.87110362, 0.81592249, 0.81592249, 0.8989048 , 0.8989048 ,\n",
       "        0.85846672, 0.85846672, 0.92459983, 0.92459983, 0.88921651,\n",
       "        0.89216512, 0.92165122, 0.92333614, 0.89005897, 0.90395956,\n",
       "        0.91954507, 0.9326032 , 0.87700084, 0.90985678, 0.90564448,\n",
       "        0.93091828, 0.88289806, 0.92291491]),\n",
       " 'split3_test_score': array([0.83529907, 0.83529907, 0.70850885, 0.70935131, 0.87236731,\n",
       "        0.87320977, 0.82855939, 0.82940185, 0.90016849, 0.90101095,\n",
       "        0.87405223, 0.87615838, 0.93091828, 0.93302443, 0.89721988,\n",
       "        0.9031171 , 0.9326032 , 0.9368155 , 0.90395956, 0.91533277,\n",
       "        0.92754844, 0.93723673, 0.89974726, 0.92544229, 0.91743892,\n",
       "        0.9410278 , 0.89427127, 0.93428812]),\n",
       " 'split4_test_score': array([0.81078803, 0.81078803, 0.71007164, 0.71007164, 0.87905605,\n",
       "        0.87905605, 0.82343026, 0.82343026, 0.90265487, 0.90265487,\n",
       "        0.86557101, 0.86725664, 0.91403287, 0.91403287, 0.88579857,\n",
       "        0.89254109, 0.91993257, 0.92372524, 0.89464812, 0.90855457,\n",
       "        0.93131058, 0.9439528 , 0.90096924, 0.92541087, 0.91993257,\n",
       "        0.94226717, 0.8879056 , 0.93299621]),\n",
       " 'split5_test_score': array([0.79730299, 0.79730299, 0.68605141, 0.68605141, 0.84576485,\n",
       "        0.84576485, 0.80193847, 0.80193847, 0.88621997, 0.88621997,\n",
       "        0.83944374, 0.84028656, 0.89928361, 0.90012642, 0.86262115,\n",
       "        0.86725664, 0.90096924, 0.90560472, 0.87484197, 0.88537716,\n",
       "        0.90012642, 0.90855457, 0.88327012, 0.90139064, 0.91192583,\n",
       "        0.92498946, 0.87905605, 0.91192583]),\n",
       " 'split6_test_score': array([0.82806574, 0.82806574, 0.73114201, 0.73114201, 0.86894227,\n",
       "        0.86894227, 0.80825959, 0.80825959, 0.90729035, 0.90729035,\n",
       "        0.87357775, 0.87442056, 0.91866835, 0.91951117, 0.88874842,\n",
       "        0.89422672, 0.93215339, 0.93594606, 0.90981879, 0.91782554,\n",
       "        0.93426043, 0.93763169, 0.89801938, 0.91698272, 0.91866835,\n",
       "        0.93088917, 0.88327012, 0.91698272]),\n",
       " 'mean_test_score': array([0.81586643, 0.81586643, 0.70595334, 0.70607369, 0.86673027,\n",
       "        0.86685062, 0.81291647, 0.81309702, 0.89845289, 0.89863344,\n",
       "        0.85992821, 0.86131271, 0.91422217, 0.91524546, 0.88256057,\n",
       "        0.88851994, 0.91771391, 0.92240924, 0.89074746, 0.90374937,\n",
       "        0.92042339, 0.93101741, 0.89044749, 0.9148254 , 0.91398332,\n",
       "        0.93438854, 0.8866548 , 0.92529907]),\n",
       " 'std_test_score': array([0.01384657, 0.01384657, 0.01262468, 0.01265245, 0.00994876,\n",
       "        0.01002105, 0.01371755, 0.0139104 , 0.00630909, 0.00630091,\n",
       "        0.01199891, 0.01213399, 0.01112536, 0.01106012, 0.01045186,\n",
       "        0.01035457, 0.01140767, 0.01045846, 0.01213549, 0.01053934,\n",
       "        0.01110032, 0.01091226, 0.00860768, 0.00819074, 0.00485329,\n",
       "        0.00627912, 0.00705099, 0.00825072]),\n",
       " 'rank_test_score': array([23, 23, 28, 27, 20, 19, 26, 25, 13, 12, 22, 21,  9,  7, 18, 16,  6,\n",
       "         4, 14, 11,  5,  2, 15,  8, 10,  1, 17,  3])}"
      ]
     },
     "execution_count": 39,
     "metadata": {},
     "output_type": "execute_result"
    }
   ],
   "source": [
    "grid.cv_results_"
   ]
  },
  {
   "cell_type": "code",
   "execution_count": 40,
   "id": "6b3afe33",
   "metadata": {},
   "outputs": [
    {
     "name": "stdout",
     "output_type": "stream",
     "text": [
      "Best params:  {'n_neighbors': 13, 'weights': 'distance'}\n",
      "Best estimator:  KNeighborsClassifier(n_neighbors=13, weights='distance')\n",
      "Best score:  0.9343885409618589\n"
     ]
    }
   ],
   "source": [
    "print(\"Best params: \", grid.best_params_)\n",
    "print(\"Best estimator: \", grid.best_estimator_)\n",
    "print(\"Best score: \", grid.best_score_)"
   ]
  },
  {
   "cell_type": "code",
   "execution_count": 44,
   "id": "003cef2d",
   "metadata": {},
   "outputs": [
    {
     "data": {
      "text/plain": [
       "KNeighborsClassifier(n_neighbors=13, weights='distance')"
      ]
     },
     "execution_count": 44,
     "metadata": {},
     "output_type": "execute_result"
    }
   ],
   "source": [
    "knn = KNeighborsClassifier(n_neighbors=13, weights='distance')\n",
    "knn.fit(x_test_ros, y_test_ros)\n",
    "# knn.predict([[3, 5, 4, 2]]) error"
   ]
  },
  {
   "cell_type": "markdown",
   "id": "ac3cb4ca",
   "metadata": {},
   "source": [
    "### **Model 2**"
   ]
  },
  {
   "cell_type": "code",
   "execution_count": 48,
   "id": "fa7baa56",
   "metadata": {},
   "outputs": [
    {
     "name": "stdout",
     "output_type": "stream",
     "text": [
      "0.8960579421684083\n",
      "              precision    recall  f1-score   support\n",
      "\n",
      "           0       0.92      0.97      0.94     16613\n",
      "           1       0.22      0.11      0.15      1474\n",
      "\n",
      "    accuracy                           0.90     18087\n",
      "   macro avg       0.57      0.54      0.55     18087\n",
      "weighted avg       0.87      0.90      0.88     18087\n",
      "\n"
     ]
    }
   ],
   "source": [
    "#Knn algorithm for second model\n",
    "knn1 = KNeighborsClassifier(n_neighbors=5).fit(x_train1, y_train1)\n",
    "y_pred1 = knn1.predict(x_test1)\n",
    "print(metrics.accuracy_score(y_test1, y_pred1))\n",
    "print(classification_report(y_test1, y_pred1))"
   ]
  },
  {
   "cell_type": "code",
   "execution_count": 49,
   "id": "770c50ac",
   "metadata": {},
   "outputs": [
    {
     "name": "stdout",
     "output_type": "stream",
     "text": [
      "0.6639077830614579\n",
      "              precision    recall  f1-score   support\n",
      "\n",
      "           0       0.66      0.68      0.67     16613\n",
      "           1       0.67      0.65      0.66     16613\n",
      "\n",
      "    accuracy                           0.66     33226\n",
      "   macro avg       0.66      0.66      0.66     33226\n",
      "weighted avg       0.66      0.66      0.66     33226\n",
      "\n"
     ]
    }
   ],
   "source": [
    "knn1 = KNeighborsClassifier(n_neighbors=5).fit(x_test_ros1, y_test_ros1)\n",
    "y_pred1 = knn1.predict(x_test_ros1)\n",
    "print(metrics.accuracy_score(y_test_ros1, y_pred1))\n",
    "print(classification_report(y_test_ros1, y_pred1))"
   ]
  },
  {
   "cell_type": "code",
   "execution_count": 50,
   "id": "95c616a0",
   "metadata": {},
   "outputs": [
    {
     "name": "stdout",
     "output_type": "stream",
     "text": [
      "[0.75376279 0.68031306 0.66646598 0.59687124 0.70818291 0.6576414\n",
      " 0.63997592 0.5743528  0.56170981 0.61047562]\n",
      "0.6449751537900341\n"
     ]
    }
   ],
   "source": [
    "scores1 = cross_val_score(knn1, x_test_ros1, y_test_ros1, cv=10, scoring='recall')\n",
    "print(scores1)\n",
    "print(scores1.mean())"
   ]
  },
  {
   "cell_type": "markdown",
   "id": "1b296eb0",
   "metadata": {},
   "source": [
    "### Grid Search"
   ]
  },
  {
   "cell_type": "code",
   "execution_count": 51,
   "id": "b7743efe",
   "metadata": {},
   "outputs": [
    {
     "data": {
      "text/plain": [
       "{'mean_fit_time': array([1.3992453 , 1.30641341, 1.2531006 , 1.17178004, 1.13832222,\n",
       "        1.17090171, 1.21817705, 1.14265847, 1.14764244, 1.07623121,\n",
       "        1.25292393, 1.19955025, 1.21581803, 1.22534323, 1.3087006 ,\n",
       "        1.12017066, 1.20084769, 1.2276253 , 1.25185238, 1.05644441,\n",
       "        1.22926525, 1.12749764, 1.29243261, 1.10296185, 1.23408256,\n",
       "        1.24148314, 1.26028793, 1.17549116]),\n",
       " 'std_fit_time': array([0.30327024, 0.38127996, 0.23611087, 0.22925871, 0.1754166 ,\n",
       "        0.18329941, 0.1822982 , 0.17698385, 0.22288491, 0.14125016,\n",
       "        0.2655287 , 0.23649594, 0.23145528, 0.23153956, 0.17185764,\n",
       "        0.25737552, 0.20350639, 0.21631084, 0.24150491, 0.18237574,\n",
       "        0.19415431, 0.22424308, 0.18190215, 0.25403601, 0.29538762,\n",
       "        0.18712704, 0.19432255, 0.21383214]),\n",
       " 'mean_score_time': array([1.78939315, 0.66276302, 1.85682913, 0.66087076, 1.77915205,\n",
       "        0.70400248, 1.80335368, 0.64989035, 1.84954235, 0.76652241,\n",
       "        1.92080879, 0.75964107, 1.86010834, 0.72754604, 2.27463739,\n",
       "        0.72566673, 1.87869099, 0.76979937, 1.82129117, 0.69197924,\n",
       "        2.01597377, 0.75455379, 2.42473183, 0.82817003, 2.02313266,\n",
       "        0.95496035, 1.89514869, 0.78093638]),\n",
       " 'std_score_time': array([0.32490208, 0.1361155 , 0.31441978, 0.11980716, 0.22997934,\n",
       "        0.07059981, 0.31623926, 0.11769095, 0.36837296, 0.1240469 ,\n",
       "        0.35355371, 0.13417134, 0.24124387, 0.09153579, 0.29616416,\n",
       "        0.14768328, 0.25879694, 0.10200883, 0.24731662, 0.09003218,\n",
       "        0.3921898 , 0.13786081, 0.52826746, 0.28657781, 0.40100836,\n",
       "        0.15858472, 0.24568667, 0.15345074]),\n",
       " 'param_n_neighbors': masked_array(data=[1, 1, 2, 2, 3, 3, 4, 4, 5, 5, 6, 6, 7, 7, 8, 8, 9, 9,\n",
       "                    10, 10, 11, 11, 12, 12, 13, 13, 14, 14],\n",
       "              mask=[False, False, False, False, False, False, False, False,\n",
       "                    False, False, False, False, False, False, False, False,\n",
       "                    False, False, False, False, False, False, False, False,\n",
       "                    False, False, False, False],\n",
       "        fill_value='?',\n",
       "             dtype=object),\n",
       " 'param_weights': masked_array(data=['uniform', 'distance', 'uniform', 'distance',\n",
       "                    'uniform', 'distance', 'uniform', 'distance',\n",
       "                    'uniform', 'distance', 'uniform', 'distance',\n",
       "                    'uniform', 'distance', 'uniform', 'distance',\n",
       "                    'uniform', 'distance', 'uniform', 'distance',\n",
       "                    'uniform', 'distance', 'uniform', 'distance',\n",
       "                    'uniform', 'distance', 'uniform', 'distance'],\n",
       "              mask=[False, False, False, False, False, False, False, False,\n",
       "                    False, False, False, False, False, False, False, False,\n",
       "                    False, False, False, False, False, False, False, False,\n",
       "                    False, False, False, False],\n",
       "        fill_value='?',\n",
       "             dtype=object),\n",
       " 'params': [{'n_neighbors': 1, 'weights': 'uniform'},\n",
       "  {'n_neighbors': 1, 'weights': 'distance'},\n",
       "  {'n_neighbors': 2, 'weights': 'uniform'},\n",
       "  {'n_neighbors': 2, 'weights': 'distance'},\n",
       "  {'n_neighbors': 3, 'weights': 'uniform'},\n",
       "  {'n_neighbors': 3, 'weights': 'distance'},\n",
       "  {'n_neighbors': 4, 'weights': 'uniform'},\n",
       "  {'n_neighbors': 4, 'weights': 'distance'},\n",
       "  {'n_neighbors': 5, 'weights': 'uniform'},\n",
       "  {'n_neighbors': 5, 'weights': 'distance'},\n",
       "  {'n_neighbors': 6, 'weights': 'uniform'},\n",
       "  {'n_neighbors': 6, 'weights': 'distance'},\n",
       "  {'n_neighbors': 7, 'weights': 'uniform'},\n",
       "  {'n_neighbors': 7, 'weights': 'distance'},\n",
       "  {'n_neighbors': 8, 'weights': 'uniform'},\n",
       "  {'n_neighbors': 8, 'weights': 'distance'},\n",
       "  {'n_neighbors': 9, 'weights': 'uniform'},\n",
       "  {'n_neighbors': 9, 'weights': 'distance'},\n",
       "  {'n_neighbors': 10, 'weights': 'uniform'},\n",
       "  {'n_neighbors': 10, 'weights': 'distance'},\n",
       "  {'n_neighbors': 11, 'weights': 'uniform'},\n",
       "  {'n_neighbors': 11, 'weights': 'distance'},\n",
       "  {'n_neighbors': 12, 'weights': 'uniform'},\n",
       "  {'n_neighbors': 12, 'weights': 'distance'},\n",
       "  {'n_neighbors': 13, 'weights': 'uniform'},\n",
       "  {'n_neighbors': 13, 'weights': 'distance'},\n",
       "  {'n_neighbors': 14, 'weights': 'uniform'},\n",
       "  {'n_neighbors': 14, 'weights': 'distance'}],\n",
       " 'split0_test_score': array([0.55457227, 0.55457227, 0.42435735, 0.42435735, 0.66118837,\n",
       "        0.66118837, 0.56847872, 0.56847872, 0.63084703, 0.63084703,\n",
       "        0.6013485 , 0.6013485 , 0.68773704, 0.68773704, 0.6573957 ,\n",
       "        0.6573957 , 0.72566372, 0.72566372, 0.69700801, 0.69700801,\n",
       "        0.70459334, 0.70459334, 0.63548251, 0.63548251, 0.7361989 ,\n",
       "        0.7361989 , 0.72313527, 0.72355668]),\n",
       " 'split1_test_score': array([0.67888748, 0.67888748, 0.42477876, 0.42477876, 0.72692794,\n",
       "        0.72692794, 0.55710072, 0.55710072, 0.76190476, 0.76190476,\n",
       "        0.62579014, 0.62579014, 0.74378424, 0.74378424, 0.68563   ,\n",
       "        0.68563   , 0.75979772, 0.75684787, 0.72819216, 0.72819216,\n",
       "        0.74841972, 0.74546987, 0.71976401, 0.71681416, 0.78213232,\n",
       "        0.77918247, 0.72355668, 0.72060683]),\n",
       " 'split2_test_score': array([0.63352991, 0.63352991, 0.37910699, 0.37910699, 0.6811289 ,\n",
       "        0.6811289 , 0.48020219, 0.48020219, 0.58719461, 0.58719461,\n",
       "        0.54338669, 0.54338669, 0.66259478, 0.66259478, 0.53875316,\n",
       "        0.53875316, 0.62131424, 0.62131424, 0.55770851, 0.55770851,\n",
       "        0.65754002, 0.65754002, 0.56950295, 0.56950295, 0.61836563,\n",
       "        0.61836563, 0.59098568, 0.59098568]),\n",
       " 'split3_test_score': array([0.68913227, 0.68913227, 0.40775063, 0.40775063, 0.56655434,\n",
       "        0.56655434, 0.52232519, 0.52232519, 0.65037911, 0.65037911,\n",
       "        0.5210615 , 0.5210615 , 0.62426285, 0.62426285, 0.57245156,\n",
       "        0.57245156, 0.62131424, 0.62131424, 0.59477675, 0.59477675,\n",
       "        0.64616681, 0.64616681, 0.60825611, 0.60825611, 0.65711879,\n",
       "        0.65711879, 0.62342039, 0.62342039]),\n",
       " 'split4_test_score': array([0.7302992 , 0.7302992 , 0.50611041, 0.50611041, 0.67846608,\n",
       "        0.67846608, 0.56510746, 0.56510746, 0.65486726, 0.65486726,\n",
       "        0.58196376, 0.58196376, 0.70122208, 0.70122208, 0.68352297,\n",
       "        0.68478719, 0.72903498, 0.72903498, 0.6797303 , 0.6797303 ,\n",
       "        0.72102823, 0.72102823, 0.68647282, 0.68647282, 0.72187105,\n",
       "        0.72313527, 0.69995786, 0.70122208]),\n",
       " 'split5_test_score': array([0.60429836, 0.60429836, 0.38348083, 0.38348083, 0.53223767,\n",
       "        0.53223767, 0.44837758, 0.44837758, 0.58828487, 0.58828487,\n",
       "        0.5339233 , 0.5339233 , 0.68225874, 0.68225874, 0.58828487,\n",
       "        0.58828487, 0.65318163, 0.65318163, 0.59165613, 0.59165613,\n",
       "        0.70838601, 0.70838601, 0.62621155, 0.62789718, 0.68268015,\n",
       "        0.68436578, 0.66034555, 0.66203118]),\n",
       " 'split6_test_score': array([0.65865992, 0.65865992, 0.42098609, 0.42098609, 0.61946903,\n",
       "        0.61946903, 0.56342183, 0.56342183, 0.65276022, 0.65276022,\n",
       "        0.6123051 , 0.6123051 , 0.67045933, 0.67045933, 0.61946903,\n",
       "        0.61946903, 0.64728192, 0.64728192, 0.60050569, 0.60050569,\n",
       "        0.68310156, 0.68310156, 0.62621155, 0.62621155, 0.67930889,\n",
       "        0.67930889, 0.63969659, 0.64011799]),\n",
       " 'mean_test_score': array([0.64991134, 0.64991134, 0.42093872, 0.42093872, 0.63799605,\n",
       "        0.63799605, 0.52928767, 0.52928767, 0.64660541, 0.64660541,\n",
       "        0.57425414, 0.57425414, 0.68175987, 0.68175987, 0.62078676,\n",
       "        0.62096736, 0.67965549, 0.67923408, 0.63565394, 0.63565394,\n",
       "        0.6956051 , 0.69518369, 0.63884307, 0.63866247, 0.69681082,\n",
       "        0.69681082, 0.66587115, 0.66599155]),\n",
       " 'std_test_score': array([0.05392465, 0.05392465, 0.03892771, 0.03892771, 0.06389392,\n",
       "        0.06389392, 0.04433961, 0.04433961, 0.05423965, 0.05423965,\n",
       "        0.03837077, 0.03837077, 0.03393836, 0.03393836, 0.05292124,\n",
       "        0.05313675, 0.05282611, 0.05219309, 0.05998573, 0.05998573,\n",
       "        0.03322928, 0.03256896, 0.04612221, 0.04532759, 0.0502768 ,\n",
       "        0.04959808, 0.04765088, 0.04730006]),\n",
       " 'rank_test_score': array([11, 11, 27, 27, 17, 17, 25, 25, 13, 13, 23, 23,  5,  5, 22, 21,  7,\n",
       "         8, 19, 19,  3,  4, 15, 16,  1,  1, 10,  9])}"
      ]
     },
     "execution_count": 51,
     "metadata": {},
     "output_type": "execute_result"
    }
   ],
   "source": [
    "k_range1 = list(range(1, 15))\n",
    "weight_options1 = ['uniform', 'distance']\n",
    "\n",
    "param_grid1 = dict(n_neighbors=k_range1 , weights=weight_options1)\n",
    "\n",
    "grid1 = GridSearchCV(knn1, param_grid1, n_jobs= -1, cv=7, scoring='recall')\n",
    "\n",
    "grid1.fit(x_test_ros1, y_test_ros1);\n",
    "\n",
    "grid1.cv_results_"
   ]
  },
  {
   "cell_type": "code",
   "execution_count": 52,
   "id": "9899be85",
   "metadata": {},
   "outputs": [
    {
     "name": "stdout",
     "output_type": "stream",
     "text": [
      "Best params:  {'n_neighbors': 13, 'weights': 'uniform'}\n",
      "Best estimator:  KNeighborsClassifier(n_neighbors=13)\n",
      "Best score:  0.6968108190708272\n"
     ]
    }
   ],
   "source": [
    "print(\"Best params: \", grid1.best_params_)\n",
    "print(\"Best estimator: \", grid1.best_estimator_)\n",
    "print(\"Best score: \", grid1.best_score_)"
   ]
  },
  {
   "cell_type": "code",
   "execution_count": 53,
   "id": "5fcb30db",
   "metadata": {},
   "outputs": [
    {
     "data": {
      "text/plain": [
       "KNeighborsClassifier(n_neighbors=13, weights='distance')"
      ]
     },
     "execution_count": 53,
     "metadata": {},
     "output_type": "execute_result"
    }
   ],
   "source": [
    "knn1 = KNeighborsClassifier(n_neighbors=13, weights='distance')\n",
    "knn1.fit(x_test_ros1, y_test_ros1) \n",
    "# knn1.predict([[3, 5, 4, 2]]) error"
   ]
  },
  {
   "cell_type": "markdown",
   "id": "ed688b04",
   "metadata": {},
   "source": [
    "# **LightGBM**"
   ]
  },
  {
   "cell_type": "markdown",
   "id": "69367623",
   "metadata": {},
   "source": [
    "### **Model 1**"
   ]
  },
  {
   "cell_type": "code",
   "execution_count": 90,
   "id": "e2a105d7",
   "metadata": {
    "colab": {
     "base_uri": "https://localhost:8080/"
    },
    "id": "e2a105d7",
    "outputId": "63ed6025-8cc1-48d2-f1c5-94748b2924f7"
   },
   "outputs": [
    {
     "name": "stdout",
     "output_type": "stream",
     "text": [
      "0.9198319234809532\n",
      "              precision    recall  f1-score   support\n",
      "\n",
      "           0       0.92      1.00      0.96     16613\n",
      "           1       0.59      0.05      0.10      1474\n",
      "\n",
      "    accuracy                           0.92     18087\n",
      "   macro avg       0.76      0.52      0.53     18087\n",
      "weighted avg       0.90      0.92      0.89     18087\n",
      "\n"
     ]
    }
   ],
   "source": [
    "#LightGBM algorithm for first model\n",
    "lbg = LGBMClassifier(learning_rate=0.09, max_depth=-5, random_state=42).fit(x_train, y_train)\n",
    "y_pred = lbg.predict(x_test)\n",
    "print(metrics.accuracy_score(y_test, y_pred))\n",
    "print(classification_report(y_test, y_pred))"
   ]
  },
  {
   "cell_type": "code",
   "execution_count": 24,
   "id": "88b47aab",
   "metadata": {
    "colab": {
     "base_uri": "https://localhost:8080/"
    },
    "id": "88b47aab",
    "outputId": "d8423228-bae1-4e8f-f919-78e2a8d84e40"
   },
   "outputs": [
    {
     "name": "stdout",
     "output_type": "stream",
     "text": [
      "0.7561219315775345\n",
      "              precision    recall  f1-score   support\n",
      "\n",
      "           0       0.82      0.66      0.73     33527\n",
      "           1       0.72      0.85      0.78     33527\n",
      "\n",
      "    accuracy                           0.76     67054\n",
      "   macro avg       0.77      0.76      0.75     67054\n",
      "weighted avg       0.77      0.76      0.75     67054\n",
      "\n"
     ]
    }
   ],
   "source": [
    "lbg = LGBMClassifier(learning_rate=0.09, max_depth=-5, random_state=42).fit(x_train_ros, y_train_ros)\n",
    "y_pred = lbg.predict(x_train_ros)\n",
    "print(metrics.accuracy_score(y_train_ros, y_pred))\n",
    "print(classification_report(y_train_ros, y_pred))"
   ]
  },
  {
   "cell_type": "code",
   "execution_count": 25,
   "id": "4eaefd7b",
   "metadata": {
    "colab": {
     "base_uri": "https://localhost:8080/"
    },
    "id": "4eaefd7b",
    "outputId": "37d3661f-5acf-4720-ea2e-7b8754f15160"
   },
   "outputs": [
    {
     "name": "stdout",
     "output_type": "stream",
     "text": [
      "[0.84645669 0.84697987 0.84878311]\n",
      "0.8474065551141067\n"
     ]
    }
   ],
   "source": [
    "scores = cross_val_score(lbg, x_train_ros, y_train_ros, cv=3, scoring='recall')\n",
    "print(scores)\n",
    "print(scores.mean())"
   ]
  },
  {
   "cell_type": "code",
   "execution_count": null,
   "id": "c7abf4fa",
   "metadata": {},
   "outputs": [],
   "source": []
  },
  {
   "cell_type": "code",
   "execution_count": 26,
   "id": "c8088c63",
   "metadata": {},
   "outputs": [
    {
     "name": "stdout",
     "output_type": "stream",
     "text": [
      "[LightGBM] [Warning] Unknown parameter: n_neighbors\n",
      "[LightGBM] [Warning] Unknown parameter: weights\n"
     ]
    },
    {
     "data": {
      "text/plain": [
       "{'mean_fit_time': array([2.66658112, 2.74918723, 2.84678483, 2.82668757, 2.7408561 ,\n",
       "        2.76028449, 2.74004708, 2.86612562, 2.70558132, 2.95893618,\n",
       "        2.957762  , 2.77894146, 2.85740743, 2.73637451, 3.0049837 ,\n",
       "        2.91539591, 2.72776747, 2.93415536, 3.05921442, 2.97650504,\n",
       "        2.70259343, 3.02403556, 2.88828816, 3.01444898, 2.66804518,\n",
       "        2.59566573, 2.86700048, 2.65842182]),\n",
       " 'std_fit_time': array([0.3418527 , 0.32058104, 0.46756894, 0.47168769, 0.34698513,\n",
       "        0.39681954, 0.36517228, 0.33736986, 0.40137389, 0.52608829,\n",
       "        0.4414932 , 0.42944056, 0.42615393, 0.47747682, 0.54391011,\n",
       "        0.46024088, 0.48294599, 0.28616951, 0.56384752, 0.62077072,\n",
       "        0.50036459, 0.53441484, 0.36817945, 0.47710035, 0.23024525,\n",
       "        0.08133216, 0.18541299, 0.10717091]),\n",
       " 'mean_score_time': array([0.4082582 , 0.42799483, 0.39626901, 0.39217036, 0.37017093,\n",
       "        0.38513061, 0.36784032, 0.40616921, 0.37400661, 0.44585763,\n",
       "        0.40849274, 0.37433246, 0.410282  , 0.41646746, 0.38981649,\n",
       "        0.40570971, 0.41774375, 0.47012649, 0.39905691, 0.4142642 ,\n",
       "        0.37962392, 0.44928827, 0.35384396, 0.36552947, 0.37381196,\n",
       "        0.44418335, 0.39986093, 0.3459256 ]),\n",
       " 'std_score_time': array([0.0271659 , 0.04111488, 0.04163913, 0.06460763, 0.04363142,\n",
       "        0.0580271 , 0.0540301 , 0.05433638, 0.03536789, 0.08671368,\n",
       "        0.07070454, 0.0405749 , 0.07623904, 0.05963188, 0.0606028 ,\n",
       "        0.04971562, 0.11018748, 0.07239334, 0.07483735, 0.08001083,\n",
       "        0.06561871, 0.10693396, 0.01292176, 0.0227414 , 0.02599207,\n",
       "        0.07794549, 0.05500871, 0.02438006]),\n",
       " 'param_n_neighbors': masked_array(data=[1, 1, 2, 2, 3, 3, 4, 4, 5, 5, 6, 6, 7, 7, 8, 8, 9, 9,\n",
       "                    10, 10, 11, 11, 12, 12, 13, 13, 14, 14],\n",
       "              mask=[False, False, False, False, False, False, False, False,\n",
       "                    False, False, False, False, False, False, False, False,\n",
       "                    False, False, False, False, False, False, False, False,\n",
       "                    False, False, False, False],\n",
       "        fill_value='?',\n",
       "             dtype=object),\n",
       " 'param_weights': masked_array(data=['uniform', 'distance', 'uniform', 'distance',\n",
       "                    'uniform', 'distance', 'uniform', 'distance',\n",
       "                    'uniform', 'distance', 'uniform', 'distance',\n",
       "                    'uniform', 'distance', 'uniform', 'distance',\n",
       "                    'uniform', 'distance', 'uniform', 'distance',\n",
       "                    'uniform', 'distance', 'uniform', 'distance',\n",
       "                    'uniform', 'distance', 'uniform', 'distance'],\n",
       "              mask=[False, False, False, False, False, False, False, False,\n",
       "                    False, False, False, False, False, False, False, False,\n",
       "                    False, False, False, False, False, False, False, False,\n",
       "                    False, False, False, False],\n",
       "        fill_value='?',\n",
       "             dtype=object),\n",
       " 'params': [{'n_neighbors': 1, 'weights': 'uniform'},\n",
       "  {'n_neighbors': 1, 'weights': 'distance'},\n",
       "  {'n_neighbors': 2, 'weights': 'uniform'},\n",
       "  {'n_neighbors': 2, 'weights': 'distance'},\n",
       "  {'n_neighbors': 3, 'weights': 'uniform'},\n",
       "  {'n_neighbors': 3, 'weights': 'distance'},\n",
       "  {'n_neighbors': 4, 'weights': 'uniform'},\n",
       "  {'n_neighbors': 4, 'weights': 'distance'},\n",
       "  {'n_neighbors': 5, 'weights': 'uniform'},\n",
       "  {'n_neighbors': 5, 'weights': 'distance'},\n",
       "  {'n_neighbors': 6, 'weights': 'uniform'},\n",
       "  {'n_neighbors': 6, 'weights': 'distance'},\n",
       "  {'n_neighbors': 7, 'weights': 'uniform'},\n",
       "  {'n_neighbors': 7, 'weights': 'distance'},\n",
       "  {'n_neighbors': 8, 'weights': 'uniform'},\n",
       "  {'n_neighbors': 8, 'weights': 'distance'},\n",
       "  {'n_neighbors': 9, 'weights': 'uniform'},\n",
       "  {'n_neighbors': 9, 'weights': 'distance'},\n",
       "  {'n_neighbors': 10, 'weights': 'uniform'},\n",
       "  {'n_neighbors': 10, 'weights': 'distance'},\n",
       "  {'n_neighbors': 11, 'weights': 'uniform'},\n",
       "  {'n_neighbors': 11, 'weights': 'distance'},\n",
       "  {'n_neighbors': 12, 'weights': 'uniform'},\n",
       "  {'n_neighbors': 12, 'weights': 'distance'},\n",
       "  {'n_neighbors': 13, 'weights': 'uniform'},\n",
       "  {'n_neighbors': 13, 'weights': 'distance'},\n",
       "  {'n_neighbors': 14, 'weights': 'uniform'},\n",
       "  {'n_neighbors': 14, 'weights': 'distance'}],\n",
       " 'split0_test_score': array([0.84885177, 0.84885177, 0.84885177, 0.84885177, 0.84885177,\n",
       "        0.84885177, 0.84885177, 0.84885177, 0.84885177, 0.84885177,\n",
       "        0.84885177, 0.84885177, 0.84885177, 0.84885177, 0.84885177,\n",
       "        0.84885177, 0.84885177, 0.84885177, 0.84885177, 0.84885177,\n",
       "        0.84885177, 0.84885177, 0.84885177, 0.84885177, 0.84885177,\n",
       "        0.84885177, 0.84885177, 0.84885177]),\n",
       " 'split1_test_score': array([0.85174358, 0.85174358, 0.85174358, 0.85174358, 0.85174358,\n",
       "        0.85174358, 0.85174358, 0.85174358, 0.85174358, 0.85174358,\n",
       "        0.85174358, 0.85174358, 0.85174358, 0.85174358, 0.85174358,\n",
       "        0.85174358, 0.85174358, 0.85174358, 0.85174358, 0.85174358,\n",
       "        0.85174358, 0.85174358, 0.85174358, 0.85174358, 0.85174358,\n",
       "        0.85174358, 0.85174358, 0.85174358]),\n",
       " 'split2_test_score': array([0.84756734, 0.84756734, 0.84756734, 0.84756734, 0.84756734,\n",
       "        0.84756734, 0.84756734, 0.84756734, 0.84756734, 0.84756734,\n",
       "        0.84756734, 0.84756734, 0.84756734, 0.84756734, 0.84756734,\n",
       "        0.84756734, 0.84756734, 0.84756734, 0.84756734, 0.84756734,\n",
       "        0.84756734, 0.84756734, 0.84756734, 0.84756734, 0.84756734,\n",
       "        0.84756734, 0.84756734, 0.84756734]),\n",
       " 'split3_test_score': array([0.84882021, 0.84882021, 0.84882021, 0.84882021, 0.84882021,\n",
       "        0.84882021, 0.84882021, 0.84882021, 0.84882021, 0.84882021,\n",
       "        0.84882021, 0.84882021, 0.84882021, 0.84882021, 0.84882021,\n",
       "        0.84882021, 0.84882021, 0.84882021, 0.84882021, 0.84882021,\n",
       "        0.84882021, 0.84882021, 0.84882021, 0.84882021, 0.84882021,\n",
       "        0.84882021, 0.84882021, 0.84882021]),\n",
       " 'split4_test_score': array([0.84279749, 0.84279749, 0.84279749, 0.84279749, 0.84279749,\n",
       "        0.84279749, 0.84279749, 0.84279749, 0.84279749, 0.84279749,\n",
       "        0.84279749, 0.84279749, 0.84279749, 0.84279749, 0.84279749,\n",
       "        0.84279749, 0.84279749, 0.84279749, 0.84279749, 0.84279749,\n",
       "        0.84279749, 0.84279749, 0.84279749, 0.84279749, 0.84279749,\n",
       "        0.84279749, 0.84279749, 0.84279749]),\n",
       " 'split5_test_score': array([0.8526096, 0.8526096, 0.8526096, 0.8526096, 0.8526096, 0.8526096,\n",
       "        0.8526096, 0.8526096, 0.8526096, 0.8526096, 0.8526096, 0.8526096,\n",
       "        0.8526096, 0.8526096, 0.8526096, 0.8526096, 0.8526096, 0.8526096,\n",
       "        0.8526096, 0.8526096, 0.8526096, 0.8526096, 0.8526096, 0.8526096,\n",
       "        0.8526096, 0.8526096, 0.8526096, 0.8526096]),\n",
       " 'split6_test_score': array([0.84864301, 0.84864301, 0.84864301, 0.84864301, 0.84864301,\n",
       "        0.84864301, 0.84864301, 0.84864301, 0.84864301, 0.84864301,\n",
       "        0.84864301, 0.84864301, 0.84864301, 0.84864301, 0.84864301,\n",
       "        0.84864301, 0.84864301, 0.84864301, 0.84864301, 0.84864301,\n",
       "        0.84864301, 0.84864301, 0.84864301, 0.84864301, 0.84864301,\n",
       "        0.84864301, 0.84864301, 0.84864301]),\n",
       " 'mean_test_score': array([0.848719, 0.848719, 0.848719, 0.848719, 0.848719, 0.848719,\n",
       "        0.848719, 0.848719, 0.848719, 0.848719, 0.848719, 0.848719,\n",
       "        0.848719, 0.848719, 0.848719, 0.848719, 0.848719, 0.848719,\n",
       "        0.848719, 0.848719, 0.848719, 0.848719, 0.848719, 0.848719,\n",
       "        0.848719, 0.848719, 0.848719, 0.848719]),\n",
       " 'std_test_score': array([0.00294495, 0.00294495, 0.00294495, 0.00294495, 0.00294495,\n",
       "        0.00294495, 0.00294495, 0.00294495, 0.00294495, 0.00294495,\n",
       "        0.00294495, 0.00294495, 0.00294495, 0.00294495, 0.00294495,\n",
       "        0.00294495, 0.00294495, 0.00294495, 0.00294495, 0.00294495,\n",
       "        0.00294495, 0.00294495, 0.00294495, 0.00294495, 0.00294495,\n",
       "        0.00294495, 0.00294495, 0.00294495]),\n",
       " 'rank_test_score': array([1, 1, 1, 1, 1, 1, 1, 1, 1, 1, 1, 1, 1, 1, 1, 1, 1, 1, 1, 1, 1, 1,\n",
       "        1, 1, 1, 1, 1, 1])}"
      ]
     },
     "execution_count": 26,
     "metadata": {},
     "output_type": "execute_result"
    }
   ],
   "source": [
    "LGBM_range = list(range(1, 15))\n",
    "weight_options3 = ['uniform', 'distance']\n",
    "\n",
    "param_grid3 = dict(n_neighbors=LGBM_range , weights=weight_options3)\n",
    "\n",
    "grid3 = GridSearchCV(lbg, param_grid3, n_jobs= -1, cv=7, scoring='recall')\n",
    "\n",
    "grid3.fit(x_train_ros, y_train_ros);\n",
    "\n",
    "grid3.cv_results_"
   ]
  },
  {
   "cell_type": "code",
   "execution_count": null,
   "id": "0904ec87",
   "metadata": {},
   "outputs": [],
   "source": []
  },
  {
   "cell_type": "code",
   "execution_count": 27,
   "id": "624fc612",
   "metadata": {},
   "outputs": [
    {
     "name": "stdout",
     "output_type": "stream",
     "text": [
      "Best params:  {'n_neighbors': 1, 'weights': 'uniform'}\n",
      "Best estimator:  LGBMClassifier(learning_rate=0.09, max_depth=-5, n_neighbors=1, random_state=42,\n",
      "               weights='uniform')\n",
      "Best score:  0.8487190018232582\n"
     ]
    }
   ],
   "source": [
    "print(\"Best params: \", grid3.best_params_)\n",
    "print(\"Best estimator: \", grid3.best_estimator_)\n",
    "print(\"Best score: \", grid3.best_score_)"
   ]
  },
  {
   "cell_type": "markdown",
   "id": "6d4b0f18",
   "metadata": {},
   "source": [
    "### **Model 2**"
   ]
  },
  {
   "cell_type": "code",
   "execution_count": 82,
   "id": "004b51bd",
   "metadata": {},
   "outputs": [
    {
     "name": "stdout",
     "output_type": "stream",
     "text": [
      "0.9207165367390944\n",
      "              precision    recall  f1-score   support\n",
      "\n",
      "           0       0.92      1.00      0.96     16613\n",
      "           1       0.67      0.05      0.10      1474\n",
      "\n",
      "    accuracy                           0.92     18087\n",
      "   macro avg       0.79      0.53      0.53     18087\n",
      "weighted avg       0.90      0.92      0.89     18087\n",
      "\n"
     ]
    }
   ],
   "source": [
    "#LightGBM algorithm for second model\n",
    "lbg1 = LGBMClassifier(learning_rate=0.09, max_depth=-5, random_state=42).fit(x_train1, y_train1)\n",
    "y_pred1 = lbg1.predict(x_test1)\n",
    "print(metrics.accuracy_score(y_test1, y_pred1))\n",
    "print(classification_report(y_test1, y_pred1))"
   ]
  },
  {
   "cell_type": "code",
   "execution_count": 83,
   "id": "a996a494",
   "metadata": {},
   "outputs": [
    {
     "name": "stdout",
     "output_type": "stream",
     "text": [
      "0.739541323060254\n",
      "              precision    recall  f1-score   support\n",
      "\n",
      "           0       0.81      0.63      0.71     16613\n",
      "           1       0.70      0.85      0.77     16613\n",
      "\n",
      "    accuracy                           0.74     33226\n",
      "   macro avg       0.75      0.74      0.74     33226\n",
      "weighted avg       0.75      0.74      0.74     33226\n",
      "\n"
     ]
    }
   ],
   "source": [
    "lbg1 = LGBMClassifier(learning_rate=0.09, max_depth=-5, random_state=42).fit(x_test_ros1, y_test_ros1)\n",
    "y_pred1 = lbg1.predict(x_test_ros1)\n",
    "print(metrics.accuracy_score(y_test_ros1, y_pred1))\n",
    "print(classification_report(y_test_ros1, y_pred1))"
   ]
  },
  {
   "cell_type": "code",
   "execution_count": 84,
   "id": "752434fa",
   "metadata": {},
   "outputs": [
    {
     "name": "stdout",
     "output_type": "stream",
     "text": [
      "[0.85490668 0.85430464 0.83865141 0.84957882 0.84115523 0.86040915\n",
      " 0.84828417 0.8410596  0.84888621 0.84406984]\n",
      "0.8481305753641806\n"
     ]
    }
   ],
   "source": [
    "scores1 = cross_val_score(lbg1, x_test_ros1, y_test_ros1, cv=10, scoring='recall')\n",
    "print(scores1)\n",
    "print(scores1.mean())"
   ]
  },
  {
   "cell_type": "markdown",
   "id": "83b9c595",
   "metadata": {},
   "source": [
    "# **XGBoost**"
   ]
  },
  {
   "cell_type": "markdown",
   "id": "ee2d9d00",
   "metadata": {},
   "source": [
    "### **Model 1**"
   ]
  },
  {
   "cell_type": "code",
   "execution_count": 29,
   "id": "0d5309a0",
   "metadata": {
    "colab": {
     "base_uri": "https://localhost:8080/"
    },
    "id": "0d5309a0",
    "outputId": "ecb5b245-a840-4c26-835d-34bb0048e208"
   },
   "outputs": [
    {
     "name": "stdout",
     "output_type": "stream",
     "text": [
      "0.9188367335655443\n",
      "              precision    recall  f1-score   support\n",
      "\n",
      "           0       0.92      1.00      0.96     16613\n",
      "           1       0.52      0.06      0.10      1474\n",
      "\n",
      "    accuracy                           0.92     18087\n",
      "   macro avg       0.72      0.53      0.53     18087\n",
      "weighted avg       0.89      0.92      0.89     18087\n",
      "\n"
     ]
    }
   ],
   "source": [
    "#XGBoost algorithm for first model\n",
    "xgb = XGBClassifier(use_label_encoder=False, eval_metric='mlogloss').fit(x_train, y_train)\n",
    "y_pred = xgb.predict(x_test)\n",
    "print(metrics.accuracy_score(y_test, y_pred))\n",
    "print(classification_report(y_test, y_pred))"
   ]
  },
  {
   "cell_type": "code",
   "execution_count": 31,
   "id": "48fe6154",
   "metadata": {
    "colab": {
     "base_uri": "https://localhost:8080/"
    },
    "id": "48fe6154",
    "outputId": "2ca94c93-57d4-46fa-d25b-52881e024126"
   },
   "outputs": [
    {
     "name": "stdout",
     "output_type": "stream",
     "text": [
      "0.6899983413501409\n",
      "              precision    recall  f1-score   support\n",
      "\n",
      "           0       0.97      0.69      0.80     16613\n",
      "           1       0.17      0.74      0.28      1474\n",
      "\n",
      "    accuracy                           0.69     18087\n",
      "   macro avg       0.57      0.71      0.54     18087\n",
      "weighted avg       0.90      0.69      0.76     18087\n",
      "\n"
     ]
    }
   ],
   "source": [
    "xgb = XGBClassifier(use_label_encoder=False, eval_metric='mlogloss').fit(x_train_ros, y_train_ros)\n",
    "y_pred = xgb.predict(x_test)\n",
    "print(metrics.accuracy_score(y_test, y_pred))\n",
    "print(classification_report(y_test, y_pred))"
   ]
  },
  {
   "cell_type": "code",
   "execution_count": 32,
   "id": "f931cb4d",
   "metadata": {
    "colab": {
     "base_uri": "https://localhost:8080/"
    },
    "id": "f931cb4d",
    "outputId": "2b4a3a60-ddb2-4fc7-f0e3-127326dc226c"
   },
   "outputs": [
    {
     "name": "stdout",
     "output_type": "stream",
     "text": [
      "[0.85863406 0.86161646 0.85237101 0.86221294 0.84337709 0.86157518\n",
      " 0.86426014 0.85773934 0.86340591 0.85923054]\n",
      "0.8584422669970324\n"
     ]
    }
   ],
   "source": [
    "scores = cross_val_score(xgb, x_train_ros, y_train_ros, cv=10, scoring='recall')\n",
    "print(scores)\n",
    "print(scores.mean())"
   ]
  },
  {
   "cell_type": "markdown",
   "id": "565012f2",
   "metadata": {},
   "source": [
    "### Grid Search"
   ]
  },
  {
   "cell_type": "code",
   "execution_count": 39,
   "id": "6b730f2b",
   "metadata": {},
   "outputs": [],
   "source": [
    "estimator = XGBClassifier(\n",
    "    objective= 'binary:logistic',\n",
    "    nthread=4,\n",
    "    seed=42\n",
    ")"
   ]
  },
  {
   "cell_type": "code",
   "execution_count": 40,
   "id": "adbb2343",
   "metadata": {},
   "outputs": [],
   "source": [
    "parameters = {\n",
    "    'max_depth': range (2, 10, 1),\n",
    "    'n_estimators': range(60, 220, 40),\n",
    "    'learning_rate': [0.1, 0.01, 0.05]\n",
    "}"
   ]
  },
  {
   "cell_type": "code",
   "execution_count": 41,
   "id": "bc604939",
   "metadata": {},
   "outputs": [],
   "source": [
    "grid_search = GridSearchCV(\n",
    "    estimator=estimator,\n",
    "    param_grid=parameters,\n",
    "    scoring = 'roc_auc',\n",
    "    n_jobs = 10,\n",
    "    cv = 3,\n",
    "    verbose=True\n",
    ")"
   ]
  },
  {
   "cell_type": "code",
   "execution_count": 42,
   "id": "ae49ff6e",
   "metadata": {},
   "outputs": [
    {
     "name": "stdout",
     "output_type": "stream",
     "text": [
      "Fitting 3 folds for each of 96 candidates, totalling 288 fits\n"
     ]
    },
    {
     "name": "stderr",
     "output_type": "stream",
     "text": [
      "[Parallel(n_jobs=10)]: Using backend LokyBackend with 10 concurrent workers.\n",
      "[Parallel(n_jobs=10)]: Done  30 tasks      | elapsed:  1.0min\n",
      "[Parallel(n_jobs=10)]: Done 180 tasks      | elapsed:  9.2min\n",
      "[Parallel(n_jobs=10)]: Done 288 out of 288 | elapsed: 15.1min finished\n"
     ]
    },
    {
     "name": "stdout",
     "output_type": "stream",
     "text": [
      "[21:46:31] WARNING: C:/Users/Administrator/workspace/xgboost-win64_release_1.5.1/src/learner.cc:1115: Starting in XGBoost 1.3.0, the default evaluation metric used with the objective 'binary:logistic' was changed from 'error' to 'logloss'. Explicitly set eval_metric if you'd like to restore the old behavior.\n"
     ]
    },
    {
     "data": {
      "text/plain": [
       "GridSearchCV(cv=3,\n",
       "             estimator=XGBClassifier(base_score=None, booster=None,\n",
       "                                     colsample_bylevel=None,\n",
       "                                     colsample_bynode=None,\n",
       "                                     colsample_bytree=None,\n",
       "                                     enable_categorical=False, gamma=None,\n",
       "                                     gpu_id=None, importance_type=None,\n",
       "                                     interaction_constraints=None,\n",
       "                                     learning_rate=None, max_delta_step=None,\n",
       "                                     max_depth=None, min_child_weight=None,\n",
       "                                     missing=nan, monotone_constraints=None,\n",
       "                                     n_estimators=100, n_jobs=None, nthread=4,\n",
       "                                     num_parallel_tree=None, predictor=None,\n",
       "                                     random_state=None, reg_alpha=None,\n",
       "                                     reg_lambda=None, scale_pos_weight=None,\n",
       "                                     seed=42, subsample=None, tree_method=None,\n",
       "                                     validate_parameters=None, verbosity=None),\n",
       "             n_jobs=10,\n",
       "             param_grid={'learning_rate': [0.1, 0.01, 0.05],\n",
       "                         'max_depth': range(2, 10),\n",
       "                         'n_estimators': range(60, 220, 40)},\n",
       "             scoring='roc_auc', verbose=True)"
      ]
     },
     "execution_count": 42,
     "metadata": {},
     "output_type": "execute_result"
    }
   ],
   "source": [
    "grid_search.fit(x_train_ros, y_train_ros)"
   ]
  },
  {
   "cell_type": "code",
   "execution_count": 46,
   "id": "b5c4b7b7",
   "metadata": {},
   "outputs": [
    {
     "name": "stdout",
     "output_type": "stream",
     "text": [
      "Best params:  {'learning_rate': 0.1, 'max_depth': 9, 'n_estimators': 180}\n",
      "Best estimator:  XGBClassifier(base_score=0.5, booster='gbtree', colsample_bylevel=1,\n",
      "              colsample_bynode=1, colsample_bytree=1, enable_categorical=False,\n",
      "              gamma=0, gpu_id=-1, importance_type=None,\n",
      "              interaction_constraints='', learning_rate=0.1, max_delta_step=0,\n",
      "              max_depth=9, min_child_weight=1, missing=nan,\n",
      "              monotone_constraints='()', n_estimators=180, n_jobs=4, nthread=4,\n",
      "              num_parallel_tree=1, predictor='auto', random_state=42,\n",
      "              reg_alpha=0, reg_lambda=1, scale_pos_weight=1, seed=42,\n",
      "              subsample=1, tree_method='exact', validate_parameters=1,\n",
      "              verbosity=None)\n",
      "Best score:  0.8671880575352153\n"
     ]
    }
   ],
   "source": [
    "print(\"Best params: \", grid_search.best_params_)\n",
    "print(\"Best estimator: \", grid_search.best_estimator_)\n",
    "print(\"Best score: \", grid_search.best_score_)"
   ]
  },
  {
   "cell_type": "markdown",
   "id": "20739132",
   "metadata": {},
   "source": [
    "### **Model 2**"
   ]
  },
  {
   "cell_type": "code",
   "execution_count": 47,
   "id": "26920065",
   "metadata": {},
   "outputs": [
    {
     "name": "stdout",
     "output_type": "stream",
     "text": [
      "0.9206612484104606\n",
      "              precision    recall  f1-score   support\n",
      "\n",
      "           0       0.92      1.00      0.96     16613\n",
      "           1       0.65      0.06      0.11      1474\n",
      "\n",
      "    accuracy                           0.92     18087\n",
      "   macro avg       0.78      0.53      0.53     18087\n",
      "weighted avg       0.90      0.92      0.89     18087\n",
      "\n"
     ]
    }
   ],
   "source": [
    "#XGBoost algorithm for second model\n",
    "xgb1 = XGBClassifier(use_label_encoder=False, eval_metric='mlogloss').fit(x_train1, y_train1)\n",
    "y_pred1 = xgb1.predict(x_test1)\n",
    "print(metrics.accuracy_score(y_test1, y_pred1))\n",
    "print(classification_report(y_test1, y_pred1))"
   ]
  },
  {
   "cell_type": "code",
   "execution_count": 49,
   "id": "a01700ad",
   "metadata": {},
   "outputs": [
    {
     "name": "stdout",
     "output_type": "stream",
     "text": [
      "0.6485320948747719\n",
      "              precision    recall  f1-score   support\n",
      "\n",
      "           0       0.98      0.63      0.77     16613\n",
      "           1       0.17      0.84      0.28      1474\n",
      "\n",
      "    accuracy                           0.65     18087\n",
      "   macro avg       0.57      0.73      0.52     18087\n",
      "weighted avg       0.91      0.65      0.73     18087\n",
      "\n"
     ]
    }
   ],
   "source": [
    "xgb = XGBClassifier(use_label_encoder=False, eval_metric='mlogloss').fit(x_train_ros1, y_train_ros1)\n",
    "y_pred = xgb.predict(x_test1)\n",
    "print(metrics.accuracy_score(y_test1, y_pred))\n",
    "print(classification_report(y_test1, y_pred))"
   ]
  },
  {
   "cell_type": "code",
   "execution_count": 51,
   "id": "78c04648",
   "metadata": {},
   "outputs": [
    {
     "name": "stdout",
     "output_type": "stream",
     "text": [
      "[0.84252908 0.83417835 0.84223084 0.85356397 0.84188544 0.84785203\n",
      " 0.84785203 0.85356397 0.84431852 0.83835371]\n",
      "0.8446327941991891\n"
     ]
    }
   ],
   "source": [
    "scores1 = cross_val_score(xgb, x_train_ros1, y_train_ros1, cv=10, scoring='recall')\n",
    "print(scores1)\n",
    "print(scores1.mean())"
   ]
  },
  {
   "cell_type": "markdown",
   "id": "2e5d218e",
   "metadata": {},
   "source": [
    "### Grid Search"
   ]
  },
  {
   "cell_type": "code",
   "execution_count": 52,
   "id": "d4db3cb8",
   "metadata": {},
   "outputs": [],
   "source": [
    "estimator1 = XGBClassifier(\n",
    "    objective= 'binary:logistic',\n",
    "    nthread=4,\n",
    "    seed=42\n",
    ")"
   ]
  },
  {
   "cell_type": "code",
   "execution_count": 53,
   "id": "4275ad02",
   "metadata": {},
   "outputs": [],
   "source": [
    "parameters1 = {\n",
    "    'max_depth': range (2, 10, 1),\n",
    "    'n_estimators': range(60, 220, 40),\n",
    "    'learning_rate': [0.1, 0.01, 0.05]\n",
    "}"
   ]
  },
  {
   "cell_type": "code",
   "execution_count": 54,
   "id": "a0618071",
   "metadata": {},
   "outputs": [],
   "source": [
    "grid_search1 = GridSearchCV(\n",
    "    estimator=estimator1,\n",
    "    param_grid=parameters1,\n",
    "    scoring = 'roc_auc',\n",
    "    n_jobs = 10,\n",
    "    cv = 3,\n",
    "    verbose=True\n",
    ")"
   ]
  },
  {
   "cell_type": "code",
   "execution_count": 55,
   "id": "cbc7f410",
   "metadata": {},
   "outputs": [
    {
     "name": "stdout",
     "output_type": "stream",
     "text": [
      "Fitting 3 folds for each of 96 candidates, totalling 288 fits\n"
     ]
    },
    {
     "name": "stderr",
     "output_type": "stream",
     "text": [
      "[Parallel(n_jobs=10)]: Using backend LokyBackend with 10 concurrent workers.\n",
      "[Parallel(n_jobs=10)]: Done  30 tasks      | elapsed:   53.9s\n",
      "[Parallel(n_jobs=10)]: Done 180 tasks      | elapsed:  7.5min\n",
      "[Parallel(n_jobs=10)]: Done 288 out of 288 | elapsed: 11.9min finished\n"
     ]
    },
    {
     "name": "stdout",
     "output_type": "stream",
     "text": [
      "[22:28:07] WARNING: C:/Users/Administrator/workspace/xgboost-win64_release_1.5.1/src/learner.cc:1115: Starting in XGBoost 1.3.0, the default evaluation metric used with the objective 'binary:logistic' was changed from 'error' to 'logloss'. Explicitly set eval_metric if you'd like to restore the old behavior.\n"
     ]
    },
    {
     "data": {
      "text/plain": [
       "GridSearchCV(cv=3,\n",
       "             estimator=XGBClassifier(base_score=None, booster=None,\n",
       "                                     colsample_bylevel=None,\n",
       "                                     colsample_bynode=None,\n",
       "                                     colsample_bytree=None,\n",
       "                                     enable_categorical=False, gamma=None,\n",
       "                                     gpu_id=None, importance_type=None,\n",
       "                                     interaction_constraints=None,\n",
       "                                     learning_rate=None, max_delta_step=None,\n",
       "                                     max_depth=None, min_child_weight=None,\n",
       "                                     missing=nan, monotone_constraints=None,\n",
       "                                     n_estimators=100, n_jobs=None, nthread=4,\n",
       "                                     num_parallel_tree=None, predictor=None,\n",
       "                                     random_state=None, reg_alpha=None,\n",
       "                                     reg_lambda=None, scale_pos_weight=None,\n",
       "                                     seed=42, subsample=None, tree_method=None,\n",
       "                                     validate_parameters=None, verbosity=None),\n",
       "             n_jobs=10,\n",
       "             param_grid={'learning_rate': [0.1, 0.01, 0.05],\n",
       "                         'max_depth': range(2, 10),\n",
       "                         'n_estimators': range(60, 220, 40)},\n",
       "             scoring='roc_auc', verbose=True)"
      ]
     },
     "execution_count": 55,
     "metadata": {},
     "output_type": "execute_result"
    }
   ],
   "source": [
    "grid_search1.fit(x_train_ros1, y_train_ros1)"
   ]
  },
  {
   "cell_type": "code",
   "execution_count": 57,
   "id": "bb0bb18f",
   "metadata": {},
   "outputs": [
    {
     "name": "stdout",
     "output_type": "stream",
     "text": [
      "Best params:  {'learning_rate': 0.1, 'max_depth': 8, 'n_estimators': 180}\n",
      "Best estimator:  XGBClassifier(base_score=0.5, booster='gbtree', colsample_bylevel=1,\n",
      "              colsample_bynode=1, colsample_bytree=1, enable_categorical=False,\n",
      "              gamma=0, gpu_id=-1, importance_type=None,\n",
      "              interaction_constraints='', learning_rate=0.1, max_delta_step=0,\n",
      "              max_depth=8, min_child_weight=1, missing=nan,\n",
      "              monotone_constraints='()', n_estimators=180, n_jobs=4, nthread=4,\n",
      "              num_parallel_tree=1, predictor='auto', random_state=42,\n",
      "              reg_alpha=0, reg_lambda=1, scale_pos_weight=1, seed=42,\n",
      "              subsample=1, tree_method='exact', validate_parameters=1,\n",
      "              verbosity=None)\n",
      "Best score:  0.7877733844383964\n"
     ]
    }
   ],
   "source": [
    "print(\"Best params: \", grid_search1.best_params_)\n",
    "print(\"Best estimator: \", grid_search1.best_estimator_)\n",
    "print(\"Best score: \", grid_search1.best_score_)"
   ]
  },
  {
   "cell_type": "markdown",
   "id": "d882e26b",
   "metadata": {},
   "source": [
    "# **Decision Tree**"
   ]
  },
  {
   "cell_type": "markdown",
   "id": "6a2d02f9",
   "metadata": {},
   "source": [
    "### **Model 1**"
   ]
  },
  {
   "cell_type": "code",
   "execution_count": 58,
   "id": "2d2ca583",
   "metadata": {
    "colab": {
     "base_uri": "https://localhost:8080/"
    },
    "id": "2d2ca583",
    "outputId": "b4941cdb-7b2e-4580-fde1-2ae06116fa05"
   },
   "outputs": [
    {
     "name": "stdout",
     "output_type": "stream",
     "text": [
      "0.919223751865981\n",
      "              precision    recall  f1-score   support\n",
      "\n",
      "           0       0.92      1.00      0.96     16613\n",
      "           1       0.55      0.05      0.09      1474\n",
      "\n",
      "    accuracy                           0.92     18087\n",
      "   macro avg       0.73      0.52      0.53     18087\n",
      "weighted avg       0.89      0.92      0.89     18087\n",
      "\n"
     ]
    }
   ],
   "source": [
    "#Decision Tree Regressor algorithm for first model\n",
    "dtree = DecisionTreeClassifier(max_depth=10, random_state=42, max_features=None, min_samples_leaf=15).fit(x_train, y_train)\n",
    "y_pred = dtree.predict(x_test)\n",
    "print(metrics.accuracy_score(y_test, y_pred))\n",
    "print(classification_report(y_test, y_pred))"
   ]
  },
  {
   "cell_type": "code",
   "execution_count": 59,
   "id": "be83a9b6",
   "metadata": {
    "colab": {
     "base_uri": "https://localhost:8080/"
    },
    "id": "be83a9b6",
    "outputId": "dfd46027-abb5-4ccb-a0d3-e93e0f8948c8"
   },
   "outputs": [
    {
     "name": "stdout",
     "output_type": "stream",
     "text": [
      "0.6674407032675402\n",
      "              precision    recall  f1-score   support\n",
      "\n",
      "           0       0.97      0.66      0.78     16613\n",
      "           1       0.17      0.80      0.28      1474\n",
      "\n",
      "    accuracy                           0.67     18087\n",
      "   macro avg       0.57      0.73      0.53     18087\n",
      "weighted avg       0.91      0.67      0.74     18087\n",
      "\n"
     ]
    }
   ],
   "source": [
    "dtree = DecisionTreeClassifier(max_depth=10, random_state=42, max_features=None, min_samples_leaf=15).fit(x_train_ros, y_train_ros)\n",
    "y_pred = dtree.predict(x_test)\n",
    "print(metrics.accuracy_score(y_test, y_pred))\n",
    "print(classification_report(y_test, y_pred))"
   ]
  },
  {
   "cell_type": "code",
   "execution_count": 61,
   "id": "905779af",
   "metadata": {
    "colab": {
     "base_uri": "https://localhost:8080/"
    },
    "id": "905779af",
    "outputId": "75d65bea-7695-4601-9520-f3be7e4a0078"
   },
   "outputs": [
    {
     "name": "stdout",
     "output_type": "stream",
     "text": [
      "[0.82165225 0.82582762 0.83596779 0.84014316 0.81235084 0.83144391\n",
      " 0.83502387 0.83417835 0.8279153  0.82702058]\n",
      "0.8291523656014241\n"
     ]
    }
   ],
   "source": [
    "scores = cross_val_score(dtree, x_train_ros, y_train_ros, cv=10, scoring='recall')\n",
    "print(scores)\n",
    "print(scores.mean())"
   ]
  },
  {
   "cell_type": "markdown",
   "id": "b47133b0",
   "metadata": {},
   "source": [
    "### Grid Search"
   ]
  },
  {
   "cell_type": "code",
   "execution_count": 66,
   "id": "3689349f",
   "metadata": {},
   "outputs": [
    {
     "name": "stdout",
     "output_type": "stream",
     "text": [
      "Fitting 3 folds for each of 144 candidates, totalling 432 fits\n"
     ]
    },
    {
     "name": "stderr",
     "output_type": "stream",
     "text": [
      "[Parallel(n_jobs=1)]: Using backend SequentialBackend with 1 concurrent workers.\n",
      "[Parallel(n_jobs=1)]: Done 432 out of 432 | elapsed:   12.8s finished\n"
     ]
    },
    {
     "data": {
      "text/plain": [
       "GridSearchCV(cv=3, estimator=DecisionTreeClassifier(random_state=42),\n",
       "             param_grid={'max_leaf_nodes': [2, 3, 4, 5, 6, 7, 8, 9, 10, 11, 12,\n",
       "                                            13, 14, 15, 16, 17, 18, 19, 20, 21,\n",
       "                                            22, 23, 24, 25, 26, 27, 28, 29, 30,\n",
       "                                            31, ...],\n",
       "                         'min_samples_split': [2, 3, 4]},\n",
       "             verbose=1)"
      ]
     },
     "execution_count": 66,
     "metadata": {},
     "output_type": "execute_result"
    }
   ],
   "source": [
    "params = {'max_leaf_nodes': list(range(2, 50)), 'min_samples_split': [2, 3, 4]}\n",
    "grid_search_cv = GridSearchCV(DecisionTreeClassifier(random_state=42), params, verbose=1, cv=3)\n",
    "grid_search_cv.fit(x_train_ros, y_train_ros)"
   ]
  },
  {
   "cell_type": "code",
   "execution_count": 67,
   "id": "2c052df6",
   "metadata": {},
   "outputs": [
    {
     "name": "stdout",
     "output_type": "stream",
     "text": [
      "Best params:  {'max_leaf_nodes': 48, 'min_samples_split': 2}\n",
      "Best estimator:  DecisionTreeClassifier(max_leaf_nodes=48, random_state=42)\n",
      "Best score:  0.7344826345234163\n"
     ]
    }
   ],
   "source": [
    "print(\"Best params: \", grid_search_cv.best_params_)\n",
    "print(\"Best estimator: \", grid_search_cv.best_estimator_)\n",
    "print(\"Best score: \", grid_search_cv.best_score_)"
   ]
  },
  {
   "cell_type": "markdown",
   "id": "a67d3c36",
   "metadata": {},
   "source": [
    "### **Model 2**"
   ]
  },
  {
   "cell_type": "code",
   "execution_count": 68,
   "id": "8cf37dd2",
   "metadata": {},
   "outputs": [
    {
     "name": "stdout",
     "output_type": "stream",
     "text": [
      "0.9208824017249958\n",
      "              precision    recall  f1-score   support\n",
      "\n",
      "           0       0.92      1.00      0.96     16613\n",
      "           1       0.72      0.05      0.09      1474\n",
      "\n",
      "    accuracy                           0.92     18087\n",
      "   macro avg       0.82      0.52      0.52     18087\n",
      "weighted avg       0.91      0.92      0.89     18087\n",
      "\n"
     ]
    }
   ],
   "source": [
    "#Decision Tree Regressor algorithm for second model\n",
    "dtree1 = DecisionTreeClassifier(max_depth=10, random_state=42, max_features=None, min_samples_leaf=15).fit(x_train1, y_train1)\n",
    "y_pred1 = dtree1.predict(x_test1)\n",
    "print(metrics.accuracy_score(y_test1, y_pred1))\n",
    "print(classification_report(y_test1, y_pred1))"
   ]
  },
  {
   "cell_type": "code",
   "execution_count": 69,
   "id": "22ff4d16",
   "metadata": {},
   "outputs": [
    {
     "name": "stdout",
     "output_type": "stream",
     "text": [
      "0.6485873832034058\n",
      "              precision    recall  f1-score   support\n",
      "\n",
      "           0       0.98      0.63      0.77     16613\n",
      "           1       0.17      0.84      0.28      1474\n",
      "\n",
      "    accuracy                           0.65     18087\n",
      "   macro avg       0.57      0.73      0.52     18087\n",
      "weighted avg       0.91      0.65      0.73     18087\n",
      "\n"
     ]
    }
   ],
   "source": [
    "dtree1 = DecisionTreeClassifier(max_depth=10, random_state=42, max_features=None, min_samples_leaf=15).fit(x_train_ros1, y_train_ros1)\n",
    "y_pred1 = dtree1.predict(x_test1)\n",
    "print(metrics.accuracy_score(y_test1, y_pred1))\n",
    "print(classification_report(y_test1, y_pred1))"
   ]
  },
  {
   "cell_type": "code",
   "execution_count": 70,
   "id": "f60d370f",
   "metadata": {},
   "outputs": [
    {
     "name": "stdout",
     "output_type": "stream",
     "text": [
      "[0.84014316 0.83537131 0.84103788 0.84938861 0.8374105  0.84665871\n",
      " 0.84576372 0.84700268 0.84103788 0.83477483]\n",
      "0.8418589273168973\n"
     ]
    }
   ],
   "source": [
    "scores1 = cross_val_score(dtree1, x_train_ros1, y_train_ros1, cv=10, scoring='recall')\n",
    "print(scores1)\n",
    "print(scores1.mean())"
   ]
  },
  {
   "cell_type": "markdown",
   "id": "f08f514f",
   "metadata": {},
   "source": [
    "### Grid Search"
   ]
  },
  {
   "cell_type": "code",
   "execution_count": 71,
   "id": "c49436da",
   "metadata": {},
   "outputs": [
    {
     "name": "stdout",
     "output_type": "stream",
     "text": [
      "Fitting 3 folds for each of 144 candidates, totalling 432 fits\n"
     ]
    },
    {
     "name": "stderr",
     "output_type": "stream",
     "text": [
      "[Parallel(n_jobs=1)]: Using backend SequentialBackend with 1 concurrent workers.\n",
      "[Parallel(n_jobs=1)]: Done 432 out of 432 | elapsed:    8.2s finished\n"
     ]
    },
    {
     "data": {
      "text/plain": [
       "GridSearchCV(cv=3, estimator=DecisionTreeClassifier(random_state=42),\n",
       "             param_grid={'max_leaf_nodes': [2, 3, 4, 5, 6, 7, 8, 9, 10, 11, 12,\n",
       "                                            13, 14, 15, 16, 17, 18, 19, 20, 21,\n",
       "                                            22, 23, 24, 25, 26, 27, 28, 29, 30,\n",
       "                                            31, ...],\n",
       "                         'min_samples_split': [2, 3, 4]},\n",
       "             verbose=1)"
      ]
     },
     "execution_count": 71,
     "metadata": {},
     "output_type": "execute_result"
    }
   ],
   "source": [
    "params1 = {'max_leaf_nodes': list(range(2, 50)), 'min_samples_split': [2, 3, 4]}\n",
    "grid_search_cv1 = GridSearchCV(DecisionTreeClassifier(random_state=42), params, verbose=1, cv=3)\n",
    "grid_search_cv1.fit(x_train_ros1, y_train_ros1)"
   ]
  },
  {
   "cell_type": "code",
   "execution_count": 72,
   "id": "e1e9e7b5",
   "metadata": {},
   "outputs": [
    {
     "name": "stdout",
     "output_type": "stream",
     "text": [
      "Best params:  {'max_leaf_nodes': 49, 'min_samples_split': 2}\n",
      "Best estimator:  DecisionTreeClassifier(max_leaf_nodes=49, random_state=42)\n",
      "Best score:  0.7358546694880975\n"
     ]
    }
   ],
   "source": [
    "print(\"Best params: \", grid_search_cv1.best_params_)\n",
    "print(\"Best estimator: \", grid_search_cv1.best_estimator_)\n",
    "print(\"Best score: \", grid_search_cv1.best_score_)"
   ]
  },
  {
   "cell_type": "markdown",
   "id": "302ba998",
   "metadata": {},
   "source": [
    "."
   ]
  },
  {
   "cell_type": "markdown",
   "id": "8212eebc",
   "metadata": {},
   "source": [
    "."
   ]
  },
  {
   "cell_type": "code",
   "execution_count": 101,
   "id": "8cab0122",
   "metadata": {},
   "outputs": [
    {
     "name": "stdout",
     "output_type": "stream",
     "text": [
      "Collecting pycaret\n",
      "  Using cached pycaret-2.3.5-py3-none-any.whl (288 kB)\n",
      "Requirement already satisfied: scipy<=1.5.4 in c:\\users\\amora\\anaconda3\\lib\\site-packages (from pycaret) (1.5.4)\n",
      "Collecting pandas-profiling>=2.8.0\n",
      "  Using cached pandas_profiling-3.1.0-py2.py3-none-any.whl (261 kB)\n",
      "Collecting mlflow\n",
      "  Using cached mlflow-1.22.0-py3-none-any.whl (15.5 MB)\n",
      "Requirement already satisfied: nltk in c:\\users\\amora\\anaconda3\\lib\\site-packages (from pycaret) (3.6.1)\n",
      "Collecting pyod\n",
      "  Using cached pyod-0.9.5-py3-none-any.whl\n",
      "Collecting gensim<4.0.0\n",
      "  Using cached gensim-3.8.3-cp38-cp38-win_amd64.whl (24.2 MB)\n",
      "Requirement already satisfied: seaborn in c:\\users\\amora\\anaconda3\\lib\\site-packages (from pycaret) (0.11.1)\n",
      "Collecting mlxtend>=0.17.0\n",
      "  Using cached mlxtend-0.19.0-py2.py3-none-any.whl (1.3 MB)\n",
      "Collecting spacy<2.4.0\n",
      "  Using cached spacy-2.3.7-cp38-cp38-win_amd64.whl (9.7 MB)\n",
      "Collecting wordcloud\n",
      "  Using cached wordcloud-1.8.1-cp38-cp38-win_amd64.whl (155 kB)\n",
      "Collecting cufflinks>=0.17.0\n",
      "  Using cached cufflinks-0.17.3-py3-none-any.whl\n",
      "Collecting umap-learn\n",
      "  Using cached umap_learn-0.5.2-py3-none-any.whl\n",
      "Collecting scikit-learn==0.23.2\n",
      "  Using cached scikit_learn-0.23.2-cp38-cp38-win_amd64.whl (6.8 MB)\n",
      "Collecting yellowbrick>=1.0.1\n",
      "  Using cached yellowbrick-1.3.post1-py3-none-any.whl (271 kB)\n",
      "Requirement already satisfied: joblib in c:\\users\\amora\\anaconda3\\lib\\site-packages (from pycaret) (1.0.1)\n",
      "Requirement already satisfied: lightgbm>=2.3.1 in c:\\users\\amora\\anaconda3\\lib\\site-packages (from pycaret) (3.3.1)\n",
      "Requirement already satisfied: ipywidgets in c:\\users\\amora\\anaconda3\\lib\\site-packages (from pycaret) (7.6.3)\n",
      "Collecting imbalanced-learn==0.7.0\n",
      "  Using cached imbalanced_learn-0.7.0-py3-none-any.whl (167 kB)\n",
      "Requirement already satisfied: numpy==1.19.5 in c:\\users\\amora\\anaconda3\\lib\\site-packages (from pycaret) (1.19.5)\n",
      "Collecting plotly>=4.4.1\n",
      "  Using cached plotly-5.4.0-py2.py3-none-any.whl (25.3 MB)\n",
      "Collecting pyLDAvis\n",
      "  Using cached pyLDAvis-3.3.1.tar.gz (1.7 MB)\n",
      "  Installing build dependencies: started\n",
      "  Installing build dependencies: finished with status 'done'\n",
      "  Getting requirements to build wheel: started\n",
      "  Getting requirements to build wheel: finished with status 'done'\n",
      "  Installing backend dependencies: started\n",
      "  Installing backend dependencies: finished with status 'done'\n",
      "    Preparing wheel metadata: started\n",
      "    Preparing wheel metadata: finished with status 'done'\n",
      "Requirement already satisfied: IPython in c:\\users\\amora\\anaconda3\\lib\\site-packages (from pycaret) (7.22.0)\n",
      "Collecting Boruta\n",
      "  Using cached Boruta-0.3-py3-none-any.whl (56 kB)\n",
      "Requirement already satisfied: pandas in c:\\users\\amora\\anaconda3\\lib\\site-packages (from pycaret) (1.2.4)\n",
      "Collecting scikit-plot\n",
      "  Using cached scikit_plot-0.3.7-py3-none-any.whl (33 kB)\n",
      "Collecting textblob\n",
      "  Using cached textblob-0.17.1-py2.py3-none-any.whl (636 kB)\n",
      "Collecting kmodes>=0.10.1\n",
      "  Using cached kmodes-0.11.1-py2.py3-none-any.whl (19 kB)\n",
      "Requirement already satisfied: matplotlib in c:\\users\\amora\\anaconda3\\lib\\site-packages (from pycaret) (3.3.4)\n",
      "Requirement already satisfied: threadpoolctl>=2.0.0 in c:\\users\\amora\\anaconda3\\lib\\site-packages (from scikit-learn==0.23.2->pycaret) (2.1.0)\n",
      "Requirement already satisfied: six>=1.9.0 in c:\\users\\amora\\anaconda3\\lib\\site-packages (from cufflinks>=0.17.0->pycaret) (1.15.0)\n",
      "Collecting colorlover>=0.2.1\n",
      "  Using cached colorlover-0.3.0-py3-none-any.whl (8.9 kB)\n",
      "Requirement already satisfied: setuptools>=34.4.1 in c:\\users\\amora\\anaconda3\\lib\\site-packages (from cufflinks>=0.17.0->pycaret) (52.0.0.post20210125)\n",
      "Collecting Cython==0.29.14\n",
      "  Using cached Cython-0.29.14-cp38-cp38-win_amd64.whl (1.7 MB)\n",
      "Collecting smart-open>=1.8.1\n",
      "  Using cached smart_open-5.2.1-py3-none-any.whl (58 kB)\n",
      "Requirement already satisfied: decorator in c:\\users\\amora\\anaconda3\\lib\\site-packages (from IPython->pycaret) (5.0.6)\n",
      "Requirement already satisfied: colorama in c:\\users\\amora\\anaconda3\\lib\\site-packages (from IPython->pycaret) (0.4.4)\n",
      "Requirement already satisfied: backcall in c:\\users\\amora\\anaconda3\\lib\\site-packages (from IPython->pycaret) (0.2.0)\n",
      "Requirement already satisfied: pygments in c:\\users\\amora\\anaconda3\\lib\\site-packages (from IPython->pycaret) (2.8.1)\n",
      "Requirement already satisfied: jedi>=0.16 in c:\\users\\amora\\anaconda3\\lib\\site-packages (from IPython->pycaret) (0.17.2)\n",
      "Requirement already satisfied: pickleshare in c:\\users\\amora\\anaconda3\\lib\\site-packages (from IPython->pycaret) (0.7.5)\n",
      "Requirement already satisfied: prompt-toolkit!=3.0.0,!=3.0.1,<3.1.0,>=2.0.0 in c:\\users\\amora\\anaconda3\\lib\\site-packages (from IPython->pycaret) (3.0.17)\n",
      "Requirement already satisfied: traitlets>=4.2 in c:\\users\\amora\\anaconda3\\lib\\site-packages (from IPython->pycaret) (5.0.5)\n",
      "Requirement already satisfied: widgetsnbextension~=3.5.0 in c:\\users\\amora\\anaconda3\\lib\\site-packages (from ipywidgets->pycaret) (3.5.1)\n",
      "Requirement already satisfied: ipykernel>=4.5.1 in c:\\users\\amora\\anaconda3\\lib\\site-packages (from ipywidgets->pycaret) (5.3.4)\n",
      "Requirement already satisfied: nbformat>=4.2.0 in c:\\users\\amora\\anaconda3\\lib\\site-packages (from ipywidgets->pycaret) (5.1.3)\n",
      "Requirement already satisfied: jupyterlab-widgets>=1.0.0 in c:\\users\\amora\\anaconda3\\lib\\site-packages (from ipywidgets->pycaret) (1.0.0)\n",
      "Requirement already satisfied: tornado>=4.2 in c:\\users\\amora\\anaconda3\\lib\\site-packages (from ipykernel>=4.5.1->ipywidgets->pycaret) (6.1)\n",
      "Requirement already satisfied: jupyter-client in c:\\users\\amora\\anaconda3\\lib\\site-packages (from ipykernel>=4.5.1->ipywidgets->pycaret) (6.1.12)\n",
      "Requirement already satisfied: parso<0.8.0,>=0.7.0 in c:\\users\\amora\\anaconda3\\lib\\site-packages (from jedi>=0.16->IPython->pycaret) (0.7.0)\n",
      "Requirement already satisfied: wheel in c:\\users\\amora\\anaconda3\\lib\\site-packages (from lightgbm>=2.3.1->pycaret) (0.36.2)\n",
      "Requirement already satisfied: cycler>=0.10 in c:\\users\\amora\\anaconda3\\lib\\site-packages (from matplotlib->pycaret) (0.10.0)\n",
      "Requirement already satisfied: pillow>=6.2.0 in c:\\users\\amora\\anaconda3\\lib\\site-packages (from matplotlib->pycaret) (8.2.0)\n",
      "Requirement already satisfied: pyparsing!=2.0.4,!=2.1.2,!=2.1.6,>=2.0.3 in c:\\users\\amora\\anaconda3\\lib\\site-packages (from matplotlib->pycaret) (2.4.7)\n",
      "Requirement already satisfied: kiwisolver>=1.0.1 in c:\\users\\amora\\anaconda3\\lib\\site-packages (from matplotlib->pycaret) (1.3.1)\n",
      "Requirement already satisfied: python-dateutil>=2.1 in c:\\users\\amora\\anaconda3\\lib\\site-packages (from matplotlib->pycaret) (2.8.1)\n",
      "Requirement already satisfied: jsonschema!=2.5.0,>=2.4 in c:\\users\\amora\\anaconda3\\lib\\site-packages (from nbformat>=4.2.0->ipywidgets->pycaret) (3.2.0)\n",
      "Requirement already satisfied: ipython-genutils in c:\\users\\amora\\anaconda3\\lib\\site-packages (from nbformat>=4.2.0->ipywidgets->pycaret) (0.2.0)\n",
      "Requirement already satisfied: jupyter-core in c:\\users\\amora\\anaconda3\\lib\\site-packages (from nbformat>=4.2.0->ipywidgets->pycaret) (4.7.1)\n",
      "Requirement already satisfied: pyrsistent>=0.14.0 in c:\\users\\amora\\anaconda3\\lib\\site-packages (from jsonschema!=2.5.0,>=2.4->nbformat>=4.2.0->ipywidgets->pycaret) (0.17.3)\n",
      "Requirement already satisfied: attrs>=17.4.0 in c:\\users\\amora\\anaconda3\\lib\\site-packages (from jsonschema!=2.5.0,>=2.4->nbformat>=4.2.0->ipywidgets->pycaret) (20.3.0)\n",
      "Requirement already satisfied: pytz>=2017.3 in c:\\users\\amora\\anaconda3\\lib\\site-packages (from pandas->pycaret) (2021.1)\n",
      "Collecting phik>=0.11.1\n",
      "  Using cached phik-0.12.0-cp38-cp38-win_amd64.whl (659 kB)\n",
      "Requirement already satisfied: tangled-up-in-unicode==0.1.0 in c:\\users\\amora\\anaconda3\\lib\\site-packages (from pandas-profiling>=2.8.0->pycaret) (0.1.0)\n",
      "Collecting visions[type_image_path]==0.7.4\n",
      "  Using cached visions-0.7.4-py3-none-any.whl (102 kB)\n",
      "Requirement already satisfied: jinja2>=2.11.1 in c:\\users\\amora\\anaconda3\\lib\\site-packages (from pandas-profiling>=2.8.0->pycaret) (2.11.3)\n",
      "Collecting missingno>=0.4.2\n",
      "  Using cached missingno-0.5.0-py3-none-any.whl (8.8 kB)\n",
      "Requirement already satisfied: requests>=2.24.0 in c:\\users\\amora\\anaconda3\\lib\\site-packages (from pandas-profiling>=2.8.0->pycaret) (2.25.1)\n",
      "Requirement already satisfied: tqdm>=4.48.2 in c:\\users\\amora\\anaconda3\\lib\\site-packages (from pandas-profiling>=2.8.0->pycaret) (4.59.0)\n",
      "Collecting pydantic>=1.8.1\n",
      "  Using cached pydantic-1.8.2-cp38-cp38-win_amd64.whl (2.0 MB)\n",
      "Collecting multimethod>=1.4\n",
      "  Using cached multimethod-1.6-py3-none-any.whl (9.4 kB)\n",
      "Requirement already satisfied: PyYAML>=5.0.0 in c:\\users\\amora\\anaconda3\\lib\\site-packages (from pandas-profiling>=2.8.0->pycaret) (5.4.1)\n",
      "Collecting htmlmin>=0.1.12\n",
      "  Using cached htmlmin-0.1.12-py3-none-any.whl\n",
      "Requirement already satisfied: markupsafe~=2.0.1 in c:\\users\\amora\\anaconda3\\lib\\site-packages (from pandas-profiling>=2.8.0->pycaret) (2.0.1)\n",
      "Requirement already satisfied: networkx>=2.4 in c:\\users\\amora\\anaconda3\\lib\\site-packages (from visions[type_image_path]==0.7.4->pandas-profiling>=2.8.0->pycaret) (2.5)\n",
      "Collecting imagehash\n",
      "  Using cached ImageHash-4.2.1-py2.py3-none-any.whl\n",
      "Collecting tenacity>=6.2.0\n",
      "  Using cached tenacity-8.0.1-py3-none-any.whl (24 kB)\n",
      "Requirement already satisfied: wcwidth in c:\\users\\amora\\anaconda3\\lib\\site-packages (from prompt-toolkit!=3.0.0,!=3.0.1,<3.1.0,>=2.0.0->IPython->pycaret) (0.2.5)\n",
      "Requirement already satisfied: typing-extensions>=3.7.4.3 in c:\\users\\amora\\anaconda3\\lib\\site-packages (from pydantic>=1.8.1->pandas-profiling>=2.8.0->pycaret) (3.7.4.3)\n",
      "Requirement already satisfied: certifi>=2017.4.17 in c:\\users\\amora\\anaconda3\\lib\\site-packages (from requests>=2.24.0->pandas-profiling>=2.8.0->pycaret) (2020.12.5)\n",
      "Requirement already satisfied: idna<3,>=2.5 in c:\\users\\amora\\anaconda3\\lib\\site-packages (from requests>=2.24.0->pandas-profiling>=2.8.0->pycaret) (2.10)\n",
      "Requirement already satisfied: urllib3<1.27,>=1.21.1 in c:\\users\\amora\\anaconda3\\lib\\site-packages (from requests>=2.24.0->pandas-profiling>=2.8.0->pycaret) (1.26.4)\n",
      "Requirement already satisfied: chardet<5,>=3.0.2 in c:\\users\\amora\\anaconda3\\lib\\site-packages (from requests>=2.24.0->pandas-profiling>=2.8.0->pycaret) (4.0.0)\n",
      "Collecting thinc<7.5.0,>=7.4.1\n",
      "  Using cached thinc-7.4.5-cp38-cp38-win_amd64.whl (910 kB)\n",
      "Collecting cymem<2.1.0,>=2.0.2\n",
      "  Using cached cymem-2.0.6-cp38-cp38-win_amd64.whl (36 kB)\n",
      "Collecting blis<0.8.0,>=0.4.0\n",
      "  Using cached blis-0.7.5-cp38-cp38-win_amd64.whl (6.6 MB)\n",
      "Collecting catalogue<1.1.0,>=0.0.7\n",
      "  Using cached catalogue-1.0.0-py2.py3-none-any.whl (7.7 kB)\n",
      "Collecting plac<1.2.0,>=0.9.6\n",
      "  Using cached plac-1.1.3-py2.py3-none-any.whl (20 kB)\n",
      "Collecting murmurhash<1.1.0,>=0.28.0\n",
      "  Using cached murmurhash-1.0.6-cp38-cp38-win_amd64.whl (21 kB)\n",
      "Collecting wasabi<1.1.0,>=0.4.0\n",
      "  Using cached wasabi-0.9.0-py3-none-any.whl (25 kB)\n",
      "Collecting srsly<1.1.0,>=1.0.2\n",
      "  Using cached srsly-1.0.5-cp38-cp38-win_amd64.whl (178 kB)\n",
      "Collecting preshed<3.1.0,>=3.0.2\n",
      "  Using cached preshed-3.0.6-cp38-cp38-win_amd64.whl (113 kB)\n",
      "Requirement already satisfied: notebook>=4.4.1 in c:\\users\\amora\\anaconda3\\lib\\site-packages (from widgetsnbextension~=3.5.0->ipywidgets->pycaret) (6.3.0)\n",
      "Requirement already satisfied: prometheus-client in c:\\users\\amora\\anaconda3\\lib\\site-packages (from notebook>=4.4.1->widgetsnbextension~=3.5.0->ipywidgets->pycaret) (0.10.1)\n",
      "Requirement already satisfied: terminado>=0.8.3 in c:\\users\\amora\\anaconda3\\lib\\site-packages (from notebook>=4.4.1->widgetsnbextension~=3.5.0->ipywidgets->pycaret) (0.9.4)\n",
      "Requirement already satisfied: Send2Trash>=1.5.0 in c:\\users\\amora\\anaconda3\\lib\\site-packages (from notebook>=4.4.1->widgetsnbextension~=3.5.0->ipywidgets->pycaret) (1.5.0)\n",
      "Requirement already satisfied: pyzmq>=17 in c:\\users\\amora\\anaconda3\\lib\\site-packages (from notebook>=4.4.1->widgetsnbextension~=3.5.0->ipywidgets->pycaret) (20.0.0)\n",
      "Requirement already satisfied: nbconvert in c:\\users\\amora\\anaconda3\\lib\\site-packages (from notebook>=4.4.1->widgetsnbextension~=3.5.0->ipywidgets->pycaret) (6.0.7)\n",
      "Requirement already satisfied: argon2-cffi in c:\\users\\amora\\anaconda3\\lib\\site-packages (from notebook>=4.4.1->widgetsnbextension~=3.5.0->ipywidgets->pycaret) (20.1.0)\n",
      "Requirement already satisfied: pywin32>=1.0 in c:\\users\\amora\\anaconda3\\lib\\site-packages (from jupyter-core->nbformat>=4.2.0->ipywidgets->pycaret) (227)\n",
      "Requirement already satisfied: pywinpty>=0.5 in c:\\users\\amora\\anaconda3\\lib\\site-packages (from terminado>=0.8.3->notebook>=4.4.1->widgetsnbextension~=3.5.0->ipywidgets->pycaret) (0.5.7)\n",
      "Requirement already satisfied: cffi>=1.0.0 in c:\\users\\amora\\anaconda3\\lib\\site-packages (from argon2-cffi->notebook>=4.4.1->widgetsnbextension~=3.5.0->ipywidgets->pycaret) (1.14.5)\n",
      "Requirement already satisfied: pycparser in c:\\users\\amora\\anaconda3\\lib\\site-packages (from cffi>=1.0.0->argon2-cffi->notebook>=4.4.1->widgetsnbextension~=3.5.0->ipywidgets->pycaret) (2.20)\n",
      "Requirement already satisfied: PyWavelets in c:\\users\\amora\\anaconda3\\lib\\site-packages (from imagehash->visions[type_image_path]==0.7.4->pandas-profiling>=2.8.0->pycaret) (1.1.1)\n",
      "Requirement already satisfied: entrypoints in c:\\users\\amora\\anaconda3\\lib\\site-packages (from mlflow->pycaret) (0.3)\n",
      "Collecting gitpython>=2.1.0\n",
      "  Using cached GitPython-3.1.24-py3-none-any.whl (180 kB)\n",
      "Requirement already satisfied: Flask in c:\\users\\amora\\anaconda3\\lib\\site-packages (from mlflow->pycaret) (1.1.2)\n",
      "Collecting prometheus-flask-exporter\n",
      "  Using cached prometheus_flask_exporter-0.18.6-py3-none-any.whl (17 kB)\n",
      "Collecting waitress\n",
      "  Using cached waitress-2.0.0-py3-none-any.whl (56 kB)\n",
      "Requirement already satisfied: importlib-metadata!=4.7.0,>=3.7.0 in c:\\users\\amora\\anaconda3\\lib\\site-packages (from mlflow->pycaret) (3.10.0)\n",
      "Collecting sqlparse>=0.3.1\n",
      "  Using cached sqlparse-0.4.2-py3-none-any.whl (42 kB)\n",
      "Requirement already satisfied: packaging in c:\\users\\amora\\anaconda3\\lib\\site-packages (from mlflow->pycaret) (20.9)\n",
      "Collecting protobuf>=3.7.0\n",
      "  Using cached protobuf-3.19.1-cp38-cp38-win_amd64.whl (895 kB)\n",
      "Requirement already satisfied: sqlalchemy in c:\\users\\amora\\anaconda3\\lib\\site-packages (from mlflow->pycaret) (1.4.7)\n",
      "Collecting databricks-cli>=0.8.7\n",
      "  Using cached databricks_cli-0.16.2-py3-none-any.whl\n",
      "Collecting docker>=4.0.0\n",
      "  Using cached docker-5.0.3-py2.py3-none-any.whl (146 kB)\n",
      "Requirement already satisfied: cloudpickle in c:\\users\\amora\\anaconda3\\lib\\site-packages (from mlflow->pycaret) (1.6.0)\n",
      "Collecting querystring-parser\n",
      "  Using cached querystring_parser-1.2.4-py2.py3-none-any.whl (7.9 kB)\n",
      "Collecting alembic<=1.4.1\n",
      "  Using cached alembic-1.4.1-py2.py3-none-any.whl\n",
      "Requirement already satisfied: click>=7.0 in c:\\users\\amora\\anaconda3\\lib\\site-packages (from mlflow->pycaret) (7.1.2)\n",
      "Collecting Mako\n",
      "  Using cached Mako-1.1.6-py2.py3-none-any.whl (75 kB)\n",
      "Collecting python-editor>=0.3\n",
      "  Using cached python_editor-1.0.4-py3-none-any.whl (4.9 kB)\n",
      "Collecting tabulate>=0.7.7\n",
      "  Using cached tabulate-0.8.9-py3-none-any.whl (25 kB)\n",
      "Collecting websocket-client>=0.32.0\n",
      "  Using cached websocket_client-1.2.3-py3-none-any.whl (53 kB)\n",
      "Collecting gitdb<5,>=4.0.1\n",
      "  Using cached gitdb-4.0.9-py3-none-any.whl (63 kB)\n",
      "Requirement already satisfied: smmap<6,>=3.0.1 in c:\\users\\amora\\anaconda3\\lib\\site-packages (from gitdb<5,>=4.0.1->gitpython>=2.1.0->mlflow->pycaret) (5.0.0)\n",
      "Requirement already satisfied: zipp>=0.5 in c:\\users\\amora\\anaconda3\\lib\\site-packages (from importlib-metadata!=4.7.0,>=3.7.0->mlflow->pycaret) (3.4.1)\n",
      "Requirement already satisfied: greenlet!=0.4.17 in c:\\users\\amora\\anaconda3\\lib\\site-packages (from sqlalchemy->mlflow->pycaret) (1.0.0)\n",
      "Requirement already satisfied: Werkzeug>=0.15 in c:\\users\\amora\\anaconda3\\lib\\site-packages (from Flask->mlflow->pycaret) (1.0.1)\n",
      "Requirement already satisfied: itsdangerous>=0.24 in c:\\users\\amora\\anaconda3\\lib\\site-packages (from Flask->mlflow->pycaret) (1.1.0)\n",
      "Requirement already satisfied: defusedxml in c:\\users\\amora\\anaconda3\\lib\\site-packages (from nbconvert->notebook>=4.4.1->widgetsnbextension~=3.5.0->ipywidgets->pycaret) (0.7.1)\n",
      "Requirement already satisfied: bleach in c:\\users\\amora\\anaconda3\\lib\\site-packages (from nbconvert->notebook>=4.4.1->widgetsnbextension~=3.5.0->ipywidgets->pycaret) (3.3.0)\n",
      "Requirement already satisfied: mistune<2,>=0.8.1 in c:\\users\\amora\\anaconda3\\lib\\site-packages (from nbconvert->notebook>=4.4.1->widgetsnbextension~=3.5.0->ipywidgets->pycaret) (0.8.4)\n",
      "Requirement already satisfied: pandocfilters>=1.4.1 in c:\\users\\amora\\anaconda3\\lib\\site-packages (from nbconvert->notebook>=4.4.1->widgetsnbextension~=3.5.0->ipywidgets->pycaret) (1.4.3)\n",
      "Requirement already satisfied: testpath in c:\\users\\amora\\anaconda3\\lib\\site-packages (from nbconvert->notebook>=4.4.1->widgetsnbextension~=3.5.0->ipywidgets->pycaret) (0.4.4)\n",
      "Requirement already satisfied: nbclient<0.6.0,>=0.5.0 in c:\\users\\amora\\anaconda3\\lib\\site-packages (from nbconvert->notebook>=4.4.1->widgetsnbextension~=3.5.0->ipywidgets->pycaret) (0.5.3)\n",
      "Requirement already satisfied: jupyterlab-pygments in c:\\users\\amora\\anaconda3\\lib\\site-packages (from nbconvert->notebook>=4.4.1->widgetsnbextension~=3.5.0->ipywidgets->pycaret) (0.1.2)\n",
      "Requirement already satisfied: async-generator in c:\\users\\amora\\anaconda3\\lib\\site-packages (from nbclient<0.6.0,>=0.5.0->nbconvert->notebook>=4.4.1->widgetsnbextension~=3.5.0->ipywidgets->pycaret) (1.10)\n",
      "Requirement already satisfied: nest-asyncio in c:\\users\\amora\\anaconda3\\lib\\site-packages (from nbclient<0.6.0,>=0.5.0->nbconvert->notebook>=4.4.1->widgetsnbextension~=3.5.0->ipywidgets->pycaret) (1.5.1)\n",
      "Requirement already satisfied: webencodings in c:\\users\\amora\\anaconda3\\lib\\site-packages (from bleach->nbconvert->notebook>=4.4.1->widgetsnbextension~=3.5.0->ipywidgets->pycaret) (0.5.1)\n",
      "Requirement already satisfied: regex in c:\\users\\amora\\anaconda3\\lib\\site-packages (from nltk->pycaret) (2021.4.4)\n",
      "Collecting pyLDAvis\n",
      "  Using cached pyLDAvis-3.3.0.tar.gz (1.7 MB)\n",
      "  Installing build dependencies: started\n",
      "  Installing build dependencies: finished with status 'done'\n",
      "  Getting requirements to build wheel: started\n",
      "  Getting requirements to build wheel: finished with status 'done'\n",
      "  Installing backend dependencies: started\n",
      "  Installing backend dependencies: finished with status 'done'\n",
      "    Preparing wheel metadata: started\n",
      "    Preparing wheel metadata: finished with status 'done'\n",
      "  Using cached pyLDAvis-3.2.2-py2.py3-none-any.whl\n",
      "Requirement already satisfied: numexpr in c:\\users\\amora\\anaconda3\\lib\\site-packages (from pyLDAvis->pycaret) (2.7.3)\n",
      "Collecting funcy\n",
      "  Using cached funcy-1.16-py2.py3-none-any.whl (32 kB)\n",
      "Requirement already satisfied: future in c:\\users\\amora\\anaconda3\\lib\\site-packages (from pyLDAvis->pycaret) (0.18.2)\n",
      "Requirement already satisfied: statsmodels in c:\\users\\amora\\anaconda3\\lib\\site-packages (from pyod->pycaret) (0.12.2)\n",
      "Requirement already satisfied: numba>=0.35 in c:\\users\\amora\\anaconda3\\lib\\site-packages (from pyod->pycaret) (0.53.1)\n",
      "Requirement already satisfied: llvmlite<0.37,>=0.36.0rc1 in c:\\users\\amora\\anaconda3\\lib\\site-packages (from numba>=0.35->pyod->pycaret) (0.36.0)\n",
      "Requirement already satisfied: patsy>=0.5 in c:\\users\\amora\\anaconda3\\lib\\site-packages (from statsmodels->pyod->pycaret) (0.5.1)\n",
      "Collecting pynndescent>=0.5\n",
      "  Using cached pynndescent-0.5.5-py3-none-any.whl\n",
      "Installing collected packages: murmurhash, multimethod, cymem, websocket-client, wasabi, visions, tenacity, tabulate, srsly, scikit-learn, python-editor, preshed, plac, Mako, imagehash, gitdb, catalogue, blis, waitress, thinc, sqlparse, smart-open, querystring-parser, pynndescent, pydantic, protobuf, prometheus-flask-exporter, plotly, phik, missingno, htmlmin, gitpython, funcy, docker, databricks-cli, Cython, colorlover, alembic, yellowbrick, wordcloud, umap-learn, textblob, spacy, scikit-plot, pyod, pyLDAvis, pandas-profiling, mlxtend, mlflow, kmodes, imbalanced-learn, gensim, cufflinks, Boruta, pycaret\n",
      "  Attempting uninstall: scikit-learn\n",
      "    Found existing installation: scikit-learn 0.24.1\n",
      "    Uninstalling scikit-learn-0.24.1:\n",
      "      Successfully uninstalled scikit-learn-0.24.1\n"
     ]
    },
    {
     "name": "stderr",
     "output_type": "stream",
     "text": [
      "ERROR: Could not install packages due to an OSError: [WinError 5] Access is denied: 'C:\\\\Users\\\\amora\\\\anaconda3\\\\Lib\\\\site-packages\\\\~klearn\\\\cluster\\\\_dbscan_inner.cp38-win_amd64.pyd'\n",
      "Consider using the `--user` option or check the permissions.\n",
      "\n"
     ]
    }
   ],
   "source": [
    "! pip install pycaret"
   ]
  },
  {
   "cell_type": "code",
   "execution_count": 102,
   "id": "9f9668e1",
   "metadata": {},
   "outputs": [
    {
     "ename": "NameError",
     "evalue": "name 'get_data' is not defined",
     "output_type": "error",
     "traceback": [
      "\u001b[1;31m---------------------------------------------------------------------------\u001b[0m",
      "\u001b[1;31mNameError\u001b[0m                                 Traceback (most recent call last)",
      "\u001b[1;32m<ipython-input-102-05aeba862915>\u001b[0m in \u001b[0;36m<module>\u001b[1;34m\u001b[0m\n\u001b[1;32m----> 1\u001b[1;33m \u001b[0mdiabetes\u001b[0m \u001b[1;33m=\u001b[0m \u001b[0mget_data\u001b[0m\u001b[1;33m(\u001b[0m\u001b[1;34m'diabetes'\u001b[0m\u001b[1;33m)\u001b[0m\u001b[1;33m\u001b[0m\u001b[1;33m\u001b[0m\u001b[0m\n\u001b[0m\u001b[0;32m      2\u001b[0m \u001b[1;31m# Importing module and initializing setup\u001b[0m\u001b[1;33m\u001b[0m\u001b[1;33m\u001b[0m\u001b[1;33m\u001b[0m\u001b[0m\n\u001b[0;32m      3\u001b[0m \u001b[1;32mfrom\u001b[0m \u001b[0mpycaret\u001b[0m\u001b[1;33m.\u001b[0m\u001b[0mclassification\u001b[0m \u001b[1;32mimport\u001b[0m \u001b[1;33m*\u001b[0m\u001b[1;33m\u001b[0m\u001b[1;33m\u001b[0m\u001b[0m\n\u001b[0;32m      4\u001b[0m \u001b[0mclf1\u001b[0m \u001b[1;33m=\u001b[0m \u001b[0msetup\u001b[0m\u001b[1;33m(\u001b[0m\u001b[0mdata\u001b[0m \u001b[1;33m=\u001b[0m \u001b[0mdf\u001b[0m\u001b[1;33m,\u001b[0m \u001b[0mtarget\u001b[0m \u001b[1;33m=\u001b[0m \u001b[1;34m'promotion'\u001b[0m\u001b[1;33m)\u001b[0m\u001b[1;33m\u001b[0m\u001b[1;33m\u001b[0m\u001b[0m\n\u001b[0;32m      5\u001b[0m \u001b[1;31m# create individual models for stacking\u001b[0m\u001b[1;33m\u001b[0m\u001b[1;33m\u001b[0m\u001b[1;33m\u001b[0m\u001b[0m\n",
      "\u001b[1;31mNameError\u001b[0m: name 'get_data' is not defined"
     ]
    }
   ],
   "source": [
    "diabetes = get_data('diabetes')\n",
    "# Importing module and initializing setup\n",
    "from pycaret.classification import *\n",
    "clf1 = setup(data = df, target = 'promotion')\n",
    "# create individual models for stacking\n",
    "xgb1 = create_model('xgb1')\n",
    "Ir1 = create_model('Ir1')\n",
    "rf1 = create_model('rf1')\n",
    "svm1 = create_model('svm1')\n",
    "# stacking models\n",
    "stacker = stack_models(estimator_list = [xgb1,Ir1,rf1,svm1], meta_model = xgboost)\n",
    "# stack models dynamically\n",
    "top5 = compare_models(n_select = 4)\n",
    "stacker = stack_models(estimator_list = top5[1:], meta_model = top5[0])"
   ]
  },
  {
   "cell_type": "code",
   "execution_count": null,
   "id": "89d5212f",
   "metadata": {},
   "outputs": [],
   "source": []
  }
 ],
 "metadata": {
  "colab": {
   "name": "Untitled (5).ipynb",
   "provenance": []
  },
  "kernelspec": {
   "display_name": "Python 3",
   "language": "python",
   "name": "python3"
  },
  "language_info": {
   "codemirror_mode": {
    "name": "ipython",
    "version": 3
   },
   "file_extension": ".py",
   "mimetype": "text/x-python",
   "name": "python",
   "nbconvert_exporter": "python",
   "pygments_lexer": "ipython3",
   "version": "3.8.8"
  }
 },
 "nbformat": 4,
 "nbformat_minor": 5
}
